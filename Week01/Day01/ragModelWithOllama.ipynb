{
 "cells": [
  {
   "cell_type": "code",
   "execution_count": 1,
   "metadata": {},
   "outputs": [
    {
     "name": "stdout",
     "output_type": "stream",
     "text": [
      "Requirement already satisfied: langchain in c:\\users\\user\\desktop\\git-hub\\llm-engieering\\.venv\\lib\\site-packages (0.3.25)\n",
      "Requirement already satisfied: langchain-community in c:\\users\\user\\desktop\\git-hub\\llm-engieering\\.venv\\lib\\site-packages (0.3.24)\n",
      "Requirement already satisfied: langchain-core in c:\\users\\user\\desktop\\git-hub\\llm-engieering\\.venv\\lib\\site-packages (0.3.60)\n",
      "Requirement already satisfied: langchain-ollama in c:\\users\\user\\desktop\\git-hub\\llm-engieering\\.venv\\lib\\site-packages (0.3.3)\n",
      "Requirement already satisfied: chromadb in c:\\users\\user\\desktop\\git-hub\\llm-engieering\\.venv\\lib\\site-packages (1.0.9)\n",
      "Requirement already satisfied: sentence-transformers in c:\\users\\user\\desktop\\git-hub\\llm-engieering\\.venv\\lib\\site-packages (4.1.0)\n",
      "Requirement already satisfied: pypdf in c:\\users\\user\\desktop\\git-hub\\llm-engieering\\.venv\\lib\\site-packages (5.5.0)\n",
      "Requirement already satisfied: python-dotenv in c:\\users\\user\\desktop\\git-hub\\llm-engieering\\.venv\\lib\\site-packages (1.1.0)\n",
      "Collecting tiktoken\n",
      "  Using cached tiktoken-0.9.0-cp313-cp313-win_amd64.whl.metadata (6.8 kB)\n",
      "Collecting unstructured[pdf]\n",
      "  Using cached unstructured-0.17.2-py3-none-any.whl.metadata (24 kB)\n",
      "Requirement already satisfied: langchain-text-splitters<1.0.0,>=0.3.8 in c:\\users\\user\\desktop\\git-hub\\llm-engieering\\.venv\\lib\\site-packages (from langchain) (0.3.8)\n",
      "Requirement already satisfied: langsmith<0.4,>=0.1.17 in c:\\users\\user\\desktop\\git-hub\\llm-engieering\\.venv\\lib\\site-packages (from langchain) (0.3.42)\n",
      "Requirement already satisfied: pydantic<3.0.0,>=2.7.4 in c:\\users\\user\\desktop\\git-hub\\llm-engieering\\.venv\\lib\\site-packages (from langchain) (2.11.4)\n",
      "Requirement already satisfied: SQLAlchemy<3,>=1.4 in c:\\users\\user\\desktop\\git-hub\\llm-engieering\\.venv\\lib\\site-packages (from langchain) (2.0.41)\n",
      "Requirement already satisfied: requests<3,>=2 in c:\\users\\user\\desktop\\git-hub\\llm-engieering\\.venv\\lib\\site-packages (from langchain) (2.32.3)\n",
      "Requirement already satisfied: PyYAML>=5.3 in c:\\users\\user\\desktop\\git-hub\\llm-engieering\\.venv\\lib\\site-packages (from langchain) (6.0.2)\n",
      "Requirement already satisfied: tenacity!=8.4.0,<10.0.0,>=8.1.0 in c:\\users\\user\\desktop\\git-hub\\llm-engieering\\.venv\\lib\\site-packages (from langchain-core) (9.1.2)\n",
      "Requirement already satisfied: jsonpatch<2.0,>=1.33 in c:\\users\\user\\desktop\\git-hub\\llm-engieering\\.venv\\lib\\site-packages (from langchain-core) (1.33)\n",
      "Requirement already satisfied: packaging<25,>=23.2 in c:\\users\\user\\desktop\\git-hub\\llm-engieering\\.venv\\lib\\site-packages (from langchain-core) (24.2)\n",
      "Requirement already satisfied: typing-extensions>=4.7 in c:\\users\\user\\desktop\\git-hub\\llm-engieering\\.venv\\lib\\site-packages (from langchain-core) (4.13.2)\n",
      "Requirement already satisfied: jsonpointer>=1.9 in c:\\users\\user\\desktop\\git-hub\\llm-engieering\\.venv\\lib\\site-packages (from jsonpatch<2.0,>=1.33->langchain-core) (3.0.0)\n",
      "Requirement already satisfied: httpx<1,>=0.23.0 in c:\\users\\user\\desktop\\git-hub\\llm-engieering\\.venv\\lib\\site-packages (from langsmith<0.4,>=0.1.17->langchain) (0.28.1)\n",
      "Requirement already satisfied: orjson<4.0.0,>=3.9.14 in c:\\users\\user\\desktop\\git-hub\\llm-engieering\\.venv\\lib\\site-packages (from langsmith<0.4,>=0.1.17->langchain) (3.10.18)\n",
      "Requirement already satisfied: requests-toolbelt<2.0.0,>=1.0.0 in c:\\users\\user\\desktop\\git-hub\\llm-engieering\\.venv\\lib\\site-packages (from langsmith<0.4,>=0.1.17->langchain) (1.0.0)\n",
      "Requirement already satisfied: zstandard<0.24.0,>=0.23.0 in c:\\users\\user\\desktop\\git-hub\\llm-engieering\\.venv\\lib\\site-packages (from langsmith<0.4,>=0.1.17->langchain) (0.23.0)\n",
      "Requirement already satisfied: anyio in c:\\users\\user\\desktop\\git-hub\\llm-engieering\\.venv\\lib\\site-packages (from httpx<1,>=0.23.0->langsmith<0.4,>=0.1.17->langchain) (4.9.0)\n",
      "Requirement already satisfied: certifi in c:\\users\\user\\desktop\\git-hub\\llm-engieering\\.venv\\lib\\site-packages (from httpx<1,>=0.23.0->langsmith<0.4,>=0.1.17->langchain) (2025.4.26)\n",
      "Requirement already satisfied: httpcore==1.* in c:\\users\\user\\desktop\\git-hub\\llm-engieering\\.venv\\lib\\site-packages (from httpx<1,>=0.23.0->langsmith<0.4,>=0.1.17->langchain) (1.0.9)\n",
      "Requirement already satisfied: idna in c:\\users\\user\\desktop\\git-hub\\llm-engieering\\.venv\\lib\\site-packages (from httpx<1,>=0.23.0->langsmith<0.4,>=0.1.17->langchain) (3.10)\n",
      "Requirement already satisfied: h11>=0.16 in c:\\users\\user\\desktop\\git-hub\\llm-engieering\\.venv\\lib\\site-packages (from httpcore==1.*->httpx<1,>=0.23.0->langsmith<0.4,>=0.1.17->langchain) (0.16.0)\n",
      "Requirement already satisfied: annotated-types>=0.6.0 in c:\\users\\user\\desktop\\git-hub\\llm-engieering\\.venv\\lib\\site-packages (from pydantic<3.0.0,>=2.7.4->langchain) (0.7.0)\n",
      "Requirement already satisfied: pydantic-core==2.33.2 in c:\\users\\user\\desktop\\git-hub\\llm-engieering\\.venv\\lib\\site-packages (from pydantic<3.0.0,>=2.7.4->langchain) (2.33.2)\n",
      "Requirement already satisfied: typing-inspection>=0.4.0 in c:\\users\\user\\desktop\\git-hub\\llm-engieering\\.venv\\lib\\site-packages (from pydantic<3.0.0,>=2.7.4->langchain) (0.4.0)\n",
      "Requirement already satisfied: charset-normalizer<4,>=2 in c:\\users\\user\\desktop\\git-hub\\llm-engieering\\.venv\\lib\\site-packages (from requests<3,>=2->langchain) (3.4.2)\n",
      "Requirement already satisfied: urllib3<3,>=1.21.1 in c:\\users\\user\\desktop\\git-hub\\llm-engieering\\.venv\\lib\\site-packages (from requests<3,>=2->langchain) (2.4.0)\n",
      "Requirement already satisfied: greenlet>=1 in c:\\users\\user\\desktop\\git-hub\\llm-engieering\\.venv\\lib\\site-packages (from SQLAlchemy<3,>=1.4->langchain) (3.2.2)\n",
      "Requirement already satisfied: aiohttp<4.0.0,>=3.8.3 in c:\\users\\user\\desktop\\git-hub\\llm-engieering\\.venv\\lib\\site-packages (from langchain-community) (3.11.18)\n",
      "Requirement already satisfied: dataclasses-json<0.7,>=0.5.7 in c:\\users\\user\\desktop\\git-hub\\llm-engieering\\.venv\\lib\\site-packages (from langchain-community) (0.6.7)\n",
      "Requirement already satisfied: pydantic-settings<3.0.0,>=2.4.0 in c:\\users\\user\\desktop\\git-hub\\llm-engieering\\.venv\\lib\\site-packages (from langchain-community) (2.9.1)\n",
      "Requirement already satisfied: httpx-sse<1.0.0,>=0.4.0 in c:\\users\\user\\desktop\\git-hub\\llm-engieering\\.venv\\lib\\site-packages (from langchain-community) (0.4.0)\n",
      "Requirement already satisfied: numpy>=2.1.0 in c:\\users\\user\\desktop\\git-hub\\llm-engieering\\.venv\\lib\\site-packages (from langchain-community) (2.2.6)\n",
      "Requirement already satisfied: aiohappyeyeballs>=2.3.0 in c:\\users\\user\\desktop\\git-hub\\llm-engieering\\.venv\\lib\\site-packages (from aiohttp<4.0.0,>=3.8.3->langchain-community) (2.6.1)\n",
      "Requirement already satisfied: aiosignal>=1.1.2 in c:\\users\\user\\desktop\\git-hub\\llm-engieering\\.venv\\lib\\site-packages (from aiohttp<4.0.0,>=3.8.3->langchain-community) (1.3.2)\n",
      "Requirement already satisfied: attrs>=17.3.0 in c:\\users\\user\\desktop\\git-hub\\llm-engieering\\.venv\\lib\\site-packages (from aiohttp<4.0.0,>=3.8.3->langchain-community) (25.3.0)\n",
      "Requirement already satisfied: frozenlist>=1.1.1 in c:\\users\\user\\desktop\\git-hub\\llm-engieering\\.venv\\lib\\site-packages (from aiohttp<4.0.0,>=3.8.3->langchain-community) (1.6.0)\n",
      "Requirement already satisfied: multidict<7.0,>=4.5 in c:\\users\\user\\desktop\\git-hub\\llm-engieering\\.venv\\lib\\site-packages (from aiohttp<4.0.0,>=3.8.3->langchain-community) (6.4.4)\n",
      "Requirement already satisfied: propcache>=0.2.0 in c:\\users\\user\\desktop\\git-hub\\llm-engieering\\.venv\\lib\\site-packages (from aiohttp<4.0.0,>=3.8.3->langchain-community) (0.3.1)\n",
      "Requirement already satisfied: yarl<2.0,>=1.17.0 in c:\\users\\user\\desktop\\git-hub\\llm-engieering\\.venv\\lib\\site-packages (from aiohttp<4.0.0,>=3.8.3->langchain-community) (1.20.0)\n",
      "Requirement already satisfied: marshmallow<4.0.0,>=3.18.0 in c:\\users\\user\\desktop\\git-hub\\llm-engieering\\.venv\\lib\\site-packages (from dataclasses-json<0.7,>=0.5.7->langchain-community) (3.26.1)\n",
      "Requirement already satisfied: typing-inspect<1,>=0.4.0 in c:\\users\\user\\desktop\\git-hub\\llm-engieering\\.venv\\lib\\site-packages (from dataclasses-json<0.7,>=0.5.7->langchain-community) (0.9.0)\n",
      "Requirement already satisfied: mypy-extensions>=0.3.0 in c:\\users\\user\\desktop\\git-hub\\llm-engieering\\.venv\\lib\\site-packages (from typing-inspect<1,>=0.4.0->dataclasses-json<0.7,>=0.5.7->langchain-community) (1.1.0)\n",
      "Requirement already satisfied: ollama<1.0.0,>=0.4.8 in c:\\users\\user\\desktop\\git-hub\\llm-engieering\\.venv\\lib\\site-packages (from langchain-ollama) (0.4.8)\n",
      "Requirement already satisfied: build>=1.0.3 in c:\\users\\user\\desktop\\git-hub\\llm-engieering\\.venv\\lib\\site-packages (from chromadb) (1.2.2.post1)\n",
      "Requirement already satisfied: fastapi==0.115.9 in c:\\users\\user\\desktop\\git-hub\\llm-engieering\\.venv\\lib\\site-packages (from chromadb) (0.115.9)\n",
      "Requirement already satisfied: uvicorn>=0.18.3 in c:\\users\\user\\desktop\\git-hub\\llm-engieering\\.venv\\lib\\site-packages (from uvicorn[standard]>=0.18.3->chromadb) (0.34.2)\n",
      "Requirement already satisfied: posthog>=2.4.0 in c:\\users\\user\\desktop\\git-hub\\llm-engieering\\.venv\\lib\\site-packages (from chromadb) (4.0.1)\n",
      "Requirement already satisfied: onnxruntime>=1.14.1 in c:\\users\\user\\desktop\\git-hub\\llm-engieering\\.venv\\lib\\site-packages (from chromadb) (1.22.0)\n",
      "Requirement already satisfied: opentelemetry-api>=1.2.0 in c:\\users\\user\\desktop\\git-hub\\llm-engieering\\.venv\\lib\\site-packages (from chromadb) (1.33.1)\n",
      "Requirement already satisfied: opentelemetry-exporter-otlp-proto-grpc>=1.2.0 in c:\\users\\user\\desktop\\git-hub\\llm-engieering\\.venv\\lib\\site-packages (from chromadb) (1.33.1)\n",
      "Requirement already satisfied: opentelemetry-instrumentation-fastapi>=0.41b0 in c:\\users\\user\\desktop\\git-hub\\llm-engieering\\.venv\\lib\\site-packages (from chromadb) (0.54b1)\n",
      "Requirement already satisfied: opentelemetry-sdk>=1.2.0 in c:\\users\\user\\desktop\\git-hub\\llm-engieering\\.venv\\lib\\site-packages (from chromadb) (1.33.1)\n",
      "Requirement already satisfied: tokenizers>=0.13.2 in c:\\users\\user\\desktop\\git-hub\\llm-engieering\\.venv\\lib\\site-packages (from chromadb) (0.21.1)\n",
      "Requirement already satisfied: pypika>=0.48.9 in c:\\users\\user\\desktop\\git-hub\\llm-engieering\\.venv\\lib\\site-packages (from chromadb) (0.48.9)\n",
      "Requirement already satisfied: tqdm>=4.65.0 in c:\\users\\user\\desktop\\git-hub\\llm-engieering\\.venv\\lib\\site-packages (from chromadb) (4.67.1)\n",
      "Requirement already satisfied: overrides>=7.3.1 in c:\\users\\user\\desktop\\git-hub\\llm-engieering\\.venv\\lib\\site-packages (from chromadb) (7.7.0)\n",
      "Requirement already satisfied: importlib-resources in c:\\users\\user\\desktop\\git-hub\\llm-engieering\\.venv\\lib\\site-packages (from chromadb) (6.5.2)\n",
      "Requirement already satisfied: grpcio>=1.58.0 in c:\\users\\user\\desktop\\git-hub\\llm-engieering\\.venv\\lib\\site-packages (from chromadb) (1.71.0)\n",
      "Requirement already satisfied: bcrypt>=4.0.1 in c:\\users\\user\\desktop\\git-hub\\llm-engieering\\.venv\\lib\\site-packages (from chromadb) (4.3.0)\n",
      "Requirement already satisfied: typer>=0.9.0 in c:\\users\\user\\desktop\\git-hub\\llm-engieering\\.venv\\lib\\site-packages (from chromadb) (0.15.4)\n",
      "Requirement already satisfied: kubernetes>=28.1.0 in c:\\users\\user\\desktop\\git-hub\\llm-engieering\\.venv\\lib\\site-packages (from chromadb) (32.0.1)\n",
      "Requirement already satisfied: mmh3>=4.0.1 in c:\\users\\user\\desktop\\git-hub\\llm-engieering\\.venv\\lib\\site-packages (from chromadb) (5.1.0)\n",
      "Requirement already satisfied: rich>=10.11.0 in c:\\users\\user\\desktop\\git-hub\\llm-engieering\\.venv\\lib\\site-packages (from chromadb) (14.0.0)\n",
      "Requirement already satisfied: jsonschema>=4.19.0 in c:\\users\\user\\desktop\\git-hub\\llm-engieering\\.venv\\lib\\site-packages (from chromadb) (4.23.0)\n",
      "Requirement already satisfied: starlette<0.46.0,>=0.40.0 in c:\\users\\user\\desktop\\git-hub\\llm-engieering\\.venv\\lib\\site-packages (from fastapi==0.115.9->chromadb) (0.45.3)\n",
      "Requirement already satisfied: sniffio>=1.1 in c:\\users\\user\\desktop\\git-hub\\llm-engieering\\.venv\\lib\\site-packages (from anyio->httpx<1,>=0.23.0->langsmith<0.4,>=0.1.17->langchain) (1.3.1)\n",
      "Requirement already satisfied: transformers<5.0.0,>=4.41.0 in c:\\users\\user\\desktop\\git-hub\\llm-engieering\\.venv\\lib\\site-packages (from sentence-transformers) (4.52.1)\n",
      "Requirement already satisfied: torch>=1.11.0 in c:\\users\\user\\desktop\\git-hub\\llm-engieering\\.venv\\lib\\site-packages (from sentence-transformers) (2.7.0)\n",
      "Requirement already satisfied: scikit-learn in c:\\users\\user\\desktop\\git-hub\\llm-engieering\\.venv\\lib\\site-packages (from sentence-transformers) (1.6.1)\n",
      "Requirement already satisfied: scipy in c:\\users\\user\\desktop\\git-hub\\llm-engieering\\.venv\\lib\\site-packages (from sentence-transformers) (1.15.3)\n",
      "Requirement already satisfied: huggingface-hub>=0.20.0 in c:\\users\\user\\desktop\\git-hub\\llm-engieering\\.venv\\lib\\site-packages (from sentence-transformers) (0.31.4)\n",
      "Requirement already satisfied: Pillow in c:\\users\\user\\desktop\\git-hub\\llm-engieering\\.venv\\lib\\site-packages (from sentence-transformers) (11.2.1)\n",
      "Requirement already satisfied: filelock in c:\\users\\user\\desktop\\git-hub\\llm-engieering\\.venv\\lib\\site-packages (from transformers<5.0.0,>=4.41.0->sentence-transformers) (3.18.0)\n",
      "Requirement already satisfied: regex!=2019.12.17 in c:\\users\\user\\desktop\\git-hub\\llm-engieering\\.venv\\lib\\site-packages (from transformers<5.0.0,>=4.41.0->sentence-transformers) (2024.11.6)\n",
      "Requirement already satisfied: safetensors>=0.4.3 in c:\\users\\user\\desktop\\git-hub\\llm-engieering\\.venv\\lib\\site-packages (from transformers<5.0.0,>=4.41.0->sentence-transformers) (0.5.3)\n",
      "Requirement already satisfied: fsspec>=2023.5.0 in c:\\users\\user\\desktop\\git-hub\\llm-engieering\\.venv\\lib\\site-packages (from huggingface-hub>=0.20.0->sentence-transformers) (2025.5.0)\n",
      "Collecting chardet (from unstructured[pdf])\n",
      "  Using cached chardet-5.2.0-py3-none-any.whl.metadata (3.4 kB)\n",
      "Collecting filetype (from unstructured[pdf])\n",
      "  Using cached filetype-1.2.0-py2.py3-none-any.whl.metadata (6.5 kB)\n",
      "Collecting python-magic (from unstructured[pdf])\n",
      "  Using cached python_magic-0.4.27-py2.py3-none-any.whl.metadata (5.8 kB)\n",
      "Collecting lxml (from unstructured[pdf])\n",
      "  Using cached lxml-5.4.0-cp313-cp313-win_amd64.whl.metadata (3.6 kB)\n",
      "Collecting nltk (from unstructured[pdf])\n",
      "  Using cached nltk-3.9.1-py3-none-any.whl.metadata (2.9 kB)\n",
      "Requirement already satisfied: beautifulsoup4 in c:\\users\\user\\desktop\\git-hub\\llm-engieering\\.venv\\lib\\site-packages (from unstructured[pdf]) (4.13.4)\n",
      "Collecting emoji (from unstructured[pdf])\n",
      "  Using cached emoji-2.14.1-py3-none-any.whl.metadata (5.7 kB)\n",
      "Collecting python-iso639 (from unstructured[pdf])\n",
      "  Using cached python_iso639-2025.2.18-py3-none-any.whl.metadata (14 kB)\n",
      "Collecting langdetect (from unstructured[pdf])\n",
      "  Using cached langdetect-1.0.9-py3-none-any.whl\n",
      "Collecting rapidfuzz (from unstructured[pdf])\n",
      "  Using cached rapidfuzz-3.13.0-cp313-cp313-win_amd64.whl.metadata (12 kB)\n",
      "Requirement already satisfied: backoff in c:\\users\\user\\desktop\\git-hub\\llm-engieering\\.venv\\lib\\site-packages (from unstructured[pdf]) (2.2.1)\n",
      "Collecting unstructured-client (from unstructured[pdf])\n",
      "  Using cached unstructured_client-0.35.0-py3-none-any.whl.metadata (21 kB)\n",
      "Requirement already satisfied: wrapt in c:\\users\\user\\desktop\\git-hub\\llm-engieering\\.venv\\lib\\site-packages (from unstructured[pdf]) (1.17.2)\n",
      "Requirement already satisfied: psutil in c:\\users\\user\\desktop\\git-hub\\llm-engieering\\.venv\\lib\\site-packages (from unstructured[pdf]) (7.0.0)\n",
      "Collecting python-oxmsg (from unstructured[pdf])\n",
      "  Using cached python_oxmsg-0.0.2-py3-none-any.whl.metadata (5.0 kB)\n",
      "Collecting html5lib (from unstructured[pdf])\n",
      "  Using cached html5lib-1.1-py2.py3-none-any.whl.metadata (16 kB)\n",
      "Collecting onnx>=1.17.0 (from unstructured[pdf])\n",
      "  Using cached onnx-1.18.0-cp313-cp313-win_amd64.whl.metadata (7.0 kB)\n",
      "Collecting pdf2image (from unstructured[pdf])\n",
      "  Using cached pdf2image-1.17.0-py3-none-any.whl.metadata (6.2 kB)\n",
      "Collecting pdfminer.six (from unstructured[pdf])\n",
      "  Using cached pdfminer_six-20250506-py3-none-any.whl.metadata (4.2 kB)\n",
      "Collecting pikepdf (from unstructured[pdf])\n",
      "  Using cached pikepdf-9.7.0-cp313-cp313-win_amd64.whl.metadata (8.3 kB)\n",
      "Collecting pi-heif (from unstructured[pdf])\n",
      "  Using cached pi_heif-0.22.0-cp313-cp313-win_amd64.whl.metadata (6.7 kB)\n",
      "Collecting google-cloud-vision (from unstructured[pdf])\n",
      "  Using cached google_cloud_vision-3.10.1-py3-none-any.whl.metadata (9.5 kB)\n",
      "Collecting effdet (from unstructured[pdf])\n",
      "  Using cached effdet-0.4.1-py3-none-any.whl.metadata (33 kB)\n",
      "Collecting unstructured-inference>=0.8.10 (from unstructured[pdf])\n",
      "  Using cached unstructured_inference-1.0.2-py3-none-any.whl.metadata (5.3 kB)\n",
      "Collecting unstructured.pytesseract>=0.3.12 (from unstructured[pdf])\n",
      "  Using cached unstructured.pytesseract-0.3.15-py3-none-any.whl.metadata (11 kB)\n",
      "Requirement already satisfied: pyproject_hooks in c:\\users\\user\\desktop\\git-hub\\llm-engieering\\.venv\\lib\\site-packages (from build>=1.0.3->chromadb) (1.2.0)\n",
      "Requirement already satisfied: colorama in c:\\users\\user\\desktop\\git-hub\\llm-engieering\\.venv\\lib\\site-packages (from build>=1.0.3->chromadb) (0.4.6)\n",
      "Requirement already satisfied: jsonschema-specifications>=2023.03.6 in c:\\users\\user\\desktop\\git-hub\\llm-engieering\\.venv\\lib\\site-packages (from jsonschema>=4.19.0->chromadb) (2025.4.1)\n",
      "Requirement already satisfied: referencing>=0.28.4 in c:\\users\\user\\desktop\\git-hub\\llm-engieering\\.venv\\lib\\site-packages (from jsonschema>=4.19.0->chromadb) (0.36.2)\n",
      "Requirement already satisfied: rpds-py>=0.7.1 in c:\\users\\user\\desktop\\git-hub\\llm-engieering\\.venv\\lib\\site-packages (from jsonschema>=4.19.0->chromadb) (0.25.0)\n",
      "Requirement already satisfied: six>=1.9.0 in c:\\users\\user\\desktop\\git-hub\\llm-engieering\\.venv\\lib\\site-packages (from kubernetes>=28.1.0->chromadb) (1.17.0)\n",
      "Requirement already satisfied: python-dateutil>=2.5.3 in c:\\users\\user\\desktop\\git-hub\\llm-engieering\\.venv\\lib\\site-packages (from kubernetes>=28.1.0->chromadb) (2.9.0.post0)\n",
      "Requirement already satisfied: google-auth>=1.0.1 in c:\\users\\user\\desktop\\git-hub\\llm-engieering\\.venv\\lib\\site-packages (from kubernetes>=28.1.0->chromadb) (2.40.1)\n",
      "Requirement already satisfied: websocket-client!=0.40.0,!=0.41.*,!=0.42.*,>=0.32.0 in c:\\users\\user\\desktop\\git-hub\\llm-engieering\\.venv\\lib\\site-packages (from kubernetes>=28.1.0->chromadb) (1.8.0)\n",
      "Requirement already satisfied: requests-oauthlib in c:\\users\\user\\desktop\\git-hub\\llm-engieering\\.venv\\lib\\site-packages (from kubernetes>=28.1.0->chromadb) (2.0.0)\n",
      "Requirement already satisfied: oauthlib>=3.2.2 in c:\\users\\user\\desktop\\git-hub\\llm-engieering\\.venv\\lib\\site-packages (from kubernetes>=28.1.0->chromadb) (3.2.2)\n",
      "Requirement already satisfied: durationpy>=0.7 in c:\\users\\user\\desktop\\git-hub\\llm-engieering\\.venv\\lib\\site-packages (from kubernetes>=28.1.0->chromadb) (0.10)\n",
      "Requirement already satisfied: cachetools<6.0,>=2.0.0 in c:\\users\\user\\desktop\\git-hub\\llm-engieering\\.venv\\lib\\site-packages (from google-auth>=1.0.1->kubernetes>=28.1.0->chromadb) (5.5.2)\n",
      "Requirement already satisfied: pyasn1-modules>=0.2.1 in c:\\users\\user\\desktop\\git-hub\\llm-engieering\\.venv\\lib\\site-packages (from google-auth>=1.0.1->kubernetes>=28.1.0->chromadb) (0.4.2)\n",
      "Requirement already satisfied: rsa<5,>=3.1.4 in c:\\users\\user\\desktop\\git-hub\\llm-engieering\\.venv\\lib\\site-packages (from google-auth>=1.0.1->kubernetes>=28.1.0->chromadb) (4.9.1)\n",
      "Requirement already satisfied: pyasn1>=0.1.3 in c:\\users\\user\\desktop\\git-hub\\llm-engieering\\.venv\\lib\\site-packages (from rsa<5,>=3.1.4->google-auth>=1.0.1->kubernetes>=28.1.0->chromadb) (0.6.1)\n",
      "Requirement already satisfied: protobuf>=4.25.1 in c:\\users\\user\\desktop\\git-hub\\llm-engieering\\.venv\\lib\\site-packages (from onnx>=1.17.0->unstructured[pdf]) (5.29.4)\n",
      "Requirement already satisfied: coloredlogs in c:\\users\\user\\desktop\\git-hub\\llm-engieering\\.venv\\lib\\site-packages (from onnxruntime>=1.14.1->chromadb) (15.0.1)\n",
      "Requirement already satisfied: flatbuffers in c:\\users\\user\\desktop\\git-hub\\llm-engieering\\.venv\\lib\\site-packages (from onnxruntime>=1.14.1->chromadb) (25.2.10)\n",
      "Requirement already satisfied: sympy in c:\\users\\user\\desktop\\git-hub\\llm-engieering\\.venv\\lib\\site-packages (from onnxruntime>=1.14.1->chromadb) (1.14.0)\n",
      "Requirement already satisfied: deprecated>=1.2.6 in c:\\users\\user\\desktop\\git-hub\\llm-engieering\\.venv\\lib\\site-packages (from opentelemetry-api>=1.2.0->chromadb) (1.2.18)\n",
      "Requirement already satisfied: importlib-metadata<8.7.0,>=6.0 in c:\\users\\user\\desktop\\git-hub\\llm-engieering\\.venv\\lib\\site-packages (from opentelemetry-api>=1.2.0->chromadb) (8.6.1)\n",
      "Requirement already satisfied: zipp>=3.20 in c:\\users\\user\\desktop\\git-hub\\llm-engieering\\.venv\\lib\\site-packages (from importlib-metadata<8.7.0,>=6.0->opentelemetry-api>=1.2.0->chromadb) (3.21.0)\n",
      "Requirement already satisfied: googleapis-common-protos~=1.52 in c:\\users\\user\\desktop\\git-hub\\llm-engieering\\.venv\\lib\\site-packages (from opentelemetry-exporter-otlp-proto-grpc>=1.2.0->chromadb) (1.70.0)\n",
      "Requirement already satisfied: opentelemetry-exporter-otlp-proto-common==1.33.1 in c:\\users\\user\\desktop\\git-hub\\llm-engieering\\.venv\\lib\\site-packages (from opentelemetry-exporter-otlp-proto-grpc>=1.2.0->chromadb) (1.33.1)\n",
      "Requirement already satisfied: opentelemetry-proto==1.33.1 in c:\\users\\user\\desktop\\git-hub\\llm-engieering\\.venv\\lib\\site-packages (from opentelemetry-exporter-otlp-proto-grpc>=1.2.0->chromadb) (1.33.1)\n",
      "Requirement already satisfied: opentelemetry-semantic-conventions==0.54b1 in c:\\users\\user\\desktop\\git-hub\\llm-engieering\\.venv\\lib\\site-packages (from opentelemetry-sdk>=1.2.0->chromadb) (0.54b1)\n",
      "Requirement already satisfied: opentelemetry-instrumentation-asgi==0.54b1 in c:\\users\\user\\desktop\\git-hub\\llm-engieering\\.venv\\lib\\site-packages (from opentelemetry-instrumentation-fastapi>=0.41b0->chromadb) (0.54b1)\n",
      "Requirement already satisfied: opentelemetry-instrumentation==0.54b1 in c:\\users\\user\\desktop\\git-hub\\llm-engieering\\.venv\\lib\\site-packages (from opentelemetry-instrumentation-fastapi>=0.41b0->chromadb) (0.54b1)\n",
      "Requirement already satisfied: opentelemetry-util-http==0.54b1 in c:\\users\\user\\desktop\\git-hub\\llm-engieering\\.venv\\lib\\site-packages (from opentelemetry-instrumentation-fastapi>=0.41b0->chromadb) (0.54b1)\n",
      "Requirement already satisfied: asgiref~=3.0 in c:\\users\\user\\desktop\\git-hub\\llm-engieering\\.venv\\lib\\site-packages (from opentelemetry-instrumentation-asgi==0.54b1->opentelemetry-instrumentation-fastapi>=0.41b0->chromadb) (3.8.1)\n",
      "Requirement already satisfied: distro>=1.5.0 in c:\\users\\user\\desktop\\git-hub\\llm-engieering\\.venv\\lib\\site-packages (from posthog>=2.4.0->chromadb) (1.9.0)\n",
      "Requirement already satisfied: markdown-it-py>=2.2.0 in c:\\users\\user\\desktop\\git-hub\\llm-engieering\\.venv\\lib\\site-packages (from rich>=10.11.0->chromadb) (3.0.0)\n",
      "Requirement already satisfied: pygments<3.0.0,>=2.13.0 in c:\\users\\user\\desktop\\git-hub\\llm-engieering\\.venv\\lib\\site-packages (from rich>=10.11.0->chromadb) (2.19.1)\n",
      "Requirement already satisfied: mdurl~=0.1 in c:\\users\\user\\desktop\\git-hub\\llm-engieering\\.venv\\lib\\site-packages (from markdown-it-py>=2.2.0->rich>=10.11.0->chromadb) (0.1.2)\n",
      "Requirement already satisfied: networkx in c:\\users\\user\\desktop\\git-hub\\llm-engieering\\.venv\\lib\\site-packages (from torch>=1.11.0->sentence-transformers) (3.4.2)\n",
      "Requirement already satisfied: jinja2 in c:\\users\\user\\desktop\\git-hub\\llm-engieering\\.venv\\lib\\site-packages (from torch>=1.11.0->sentence-transformers) (3.1.6)\n",
      "Requirement already satisfied: setuptools in c:\\users\\user\\desktop\\git-hub\\llm-engieering\\.venv\\lib\\site-packages (from torch>=1.11.0->sentence-transformers) (80.8.0)\n",
      "Requirement already satisfied: mpmath<1.4,>=1.1.0 in c:\\users\\user\\desktop\\git-hub\\llm-engieering\\.venv\\lib\\site-packages (from sympy->onnxruntime>=1.14.1->chromadb) (1.3.0)\n",
      "Requirement already satisfied: click<8.2,>=8.0.0 in c:\\users\\user\\desktop\\git-hub\\llm-engieering\\.venv\\lib\\site-packages (from typer>=0.9.0->chromadb) (8.1.8)\n",
      "Requirement already satisfied: shellingham>=1.3.0 in c:\\users\\user\\desktop\\git-hub\\llm-engieering\\.venv\\lib\\site-packages (from typer>=0.9.0->chromadb) (1.5.4)\n",
      "Collecting python-multipart (from unstructured-inference>=0.8.10->unstructured[pdf])\n",
      "  Using cached python_multipart-0.0.20-py3-none-any.whl.metadata (1.8 kB)\n",
      "Collecting opencv-python!=4.7.0.68 (from unstructured-inference>=0.8.10->unstructured[pdf])\n",
      "  Using cached opencv_python-4.11.0.86-cp37-abi3-win_amd64.whl.metadata (20 kB)\n",
      "Collecting matplotlib (from unstructured-inference>=0.8.10->unstructured[pdf])\n",
      "  Using cached matplotlib-3.10.3-cp313-cp313-win_amd64.whl.metadata (11 kB)\n",
      "Collecting timm (from unstructured-inference>=0.8.10->unstructured[pdf])\n",
      "  Using cached timm-1.0.15-py3-none-any.whl.metadata (52 kB)\n",
      "Collecting accelerate (from unstructured-inference>=0.8.10->unstructured[pdf])\n",
      "  Using cached accelerate-1.7.0-py3-none-any.whl.metadata (19 kB)\n",
      "Collecting pandas (from unstructured-inference>=0.8.10->unstructured[pdf])\n",
      "  Using cached pandas-2.2.3-cp313-cp313-win_amd64.whl.metadata (19 kB)\n",
      "Collecting pypdfium2 (from unstructured-inference>=0.8.10->unstructured[pdf])\n",
      "  Using cached pypdfium2-4.30.1-py3-none-win_amd64.whl.metadata (48 kB)\n",
      "Requirement already satisfied: httptools>=0.6.3 in c:\\users\\user\\desktop\\git-hub\\llm-engieering\\.venv\\lib\\site-packages (from uvicorn[standard]>=0.18.3->chromadb) (0.6.4)\n",
      "Requirement already satisfied: watchfiles>=0.13 in c:\\users\\user\\desktop\\git-hub\\llm-engieering\\.venv\\lib\\site-packages (from uvicorn[standard]>=0.18.3->chromadb) (1.0.5)\n",
      "Requirement already satisfied: websockets>=10.4 in c:\\users\\user\\desktop\\git-hub\\llm-engieering\\.venv\\lib\\site-packages (from uvicorn[standard]>=0.18.3->chromadb) (15.0.1)\n",
      "Requirement already satisfied: soupsieve>1.2 in c:\\users\\user\\desktop\\git-hub\\llm-engieering\\.venv\\lib\\site-packages (from beautifulsoup4->unstructured[pdf]) (2.7)\n",
      "Requirement already satisfied: humanfriendly>=9.1 in c:\\users\\user\\desktop\\git-hub\\llm-engieering\\.venv\\lib\\site-packages (from coloredlogs->onnxruntime>=1.14.1->chromadb) (10.0)\n",
      "Requirement already satisfied: pyreadline3 in c:\\users\\user\\desktop\\git-hub\\llm-engieering\\.venv\\lib\\site-packages (from humanfriendly>=9.1->coloredlogs->onnxruntime>=1.14.1->chromadb) (3.5.4)\n",
      "Collecting torchvision (from effdet->unstructured[pdf])\n",
      "  Using cached torchvision-0.22.0-cp313-cp313-win_amd64.whl.metadata (6.3 kB)\n",
      "Collecting pycocotools>=2.0.2 (from effdet->unstructured[pdf])\n",
      "  Using cached pycocotools-2.0.8.tar.gz (24 kB)\n",
      "  Installing build dependencies: started\n",
      "  Installing build dependencies: finished with status 'done'\n",
      "  Getting requirements to build wheel: started\n",
      "  Getting requirements to build wheel: finished with status 'done'\n",
      "  Preparing metadata (pyproject.toml): started\n",
      "  Preparing metadata (pyproject.toml): finished with status 'done'\n",
      "Collecting omegaconf>=2.0 (from effdet->unstructured[pdf])\n",
      "  Using cached omegaconf-2.3.0-py3-none-any.whl.metadata (3.9 kB)\n",
      "Collecting antlr4-python3-runtime==4.9.* (from omegaconf>=2.0->effdet->unstructured[pdf])\n",
      "  Using cached antlr4_python3_runtime-4.9.3-py3-none-any.whl\n",
      "Collecting contourpy>=1.0.1 (from matplotlib->unstructured-inference>=0.8.10->unstructured[pdf])\n",
      "  Using cached contourpy-1.3.2-cp313-cp313-win_amd64.whl.metadata (5.5 kB)\n",
      "Collecting cycler>=0.10 (from matplotlib->unstructured-inference>=0.8.10->unstructured[pdf])\n",
      "  Using cached cycler-0.12.1-py3-none-any.whl.metadata (3.8 kB)\n",
      "Collecting fonttools>=4.22.0 (from matplotlib->unstructured-inference>=0.8.10->unstructured[pdf])\n",
      "  Using cached fonttools-4.58.0-cp313-cp313-win_amd64.whl.metadata (106 kB)\n",
      "Collecting kiwisolver>=1.3.1 (from matplotlib->unstructured-inference>=0.8.10->unstructured[pdf])\n",
      "  Using cached kiwisolver-1.4.8-cp313-cp313-win_amd64.whl.metadata (6.3 kB)\n",
      "Collecting pyparsing>=2.3.1 (from matplotlib->unstructured-inference>=0.8.10->unstructured[pdf])\n",
      "  Using cached pyparsing-3.2.3-py3-none-any.whl.metadata (5.0 kB)\n",
      "Collecting google-api-core!=2.0.*,!=2.1.*,!=2.10.*,!=2.2.*,!=2.3.*,!=2.4.*,!=2.5.*,!=2.6.*,!=2.7.*,!=2.8.*,!=2.9.*,<3.0.0,>=1.34.1 (from google-api-core[grpc]!=2.0.*,!=2.1.*,!=2.10.*,!=2.2.*,!=2.3.*,!=2.4.*,!=2.5.*,!=2.6.*,!=2.7.*,!=2.8.*,!=2.9.*,<3.0.0,>=1.34.1->google-cloud-vision->unstructured[pdf])\n",
      "  Using cached google_api_core-2.24.2-py3-none-any.whl.metadata (3.0 kB)\n",
      "Collecting proto-plus<2.0.0,>=1.22.3 (from google-cloud-vision->unstructured[pdf])\n",
      "  Using cached proto_plus-1.26.1-py3-none-any.whl.metadata (2.2 kB)\n",
      "Collecting grpcio-status<2.0.dev0,>=1.33.2 (from google-api-core[grpc]!=2.0.*,!=2.1.*,!=2.10.*,!=2.2.*,!=2.3.*,!=2.4.*,!=2.5.*,!=2.6.*,!=2.7.*,!=2.8.*,!=2.9.*,<3.0.0,>=1.34.1->google-cloud-vision->unstructured[pdf])\n",
      "  Using cached grpcio_status-1.72.0rc1-py3-none-any.whl.metadata (1.1 kB)\n",
      "INFO: pip is looking at multiple versions of grpcio-status to determine which version is compatible with other requirements. This could take a while.\n",
      "  Using cached grpcio_status-1.71.0-py3-none-any.whl.metadata (1.1 kB)\n",
      "Collecting webencodings (from html5lib->unstructured[pdf])\n",
      "  Using cached webencodings-0.5.1-py2.py3-none-any.whl.metadata (2.1 kB)\n",
      "Requirement already satisfied: MarkupSafe>=2.0 in c:\\users\\user\\desktop\\git-hub\\llm-engieering\\.venv\\lib\\site-packages (from jinja2->torch>=1.11.0->sentence-transformers) (3.0.2)\n",
      "Requirement already satisfied: joblib in c:\\users\\user\\desktop\\git-hub\\llm-engieering\\.venv\\lib\\site-packages (from nltk->unstructured[pdf]) (1.5.0)\n",
      "Requirement already satisfied: pytz>=2020.1 in c:\\users\\user\\desktop\\git-hub\\llm-engieering\\.venv\\lib\\site-packages (from pandas->unstructured-inference>=0.8.10->unstructured[pdf]) (2025.2)\n",
      "Collecting tzdata>=2022.7 (from pandas->unstructured-inference>=0.8.10->unstructured[pdf])\n",
      "  Using cached tzdata-2025.2-py2.py3-none-any.whl.metadata (1.4 kB)\n",
      "Collecting cryptography>=36.0.0 (from pdfminer.six->unstructured[pdf])\n",
      "  Using cached cryptography-45.0.2-cp311-abi3-win_amd64.whl.metadata (5.7 kB)\n",
      "Collecting cffi>=1.14 (from cryptography>=36.0.0->pdfminer.six->unstructured[pdf])\n",
      "  Using cached cffi-1.17.1-cp313-cp313-win_amd64.whl.metadata (1.6 kB)\n",
      "Collecting pycparser (from cffi>=1.14->cryptography>=36.0.0->pdfminer.six->unstructured[pdf])\n",
      "  Using cached pycparser-2.22-py3-none-any.whl.metadata (943 bytes)\n",
      "Collecting olefile (from python-oxmsg->unstructured[pdf])\n",
      "  Using cached olefile-0.47-py2.py3-none-any.whl.metadata (9.7 kB)\n",
      "Requirement already satisfied: threadpoolctl>=3.1.0 in c:\\users\\user\\desktop\\git-hub\\llm-engieering\\.venv\\lib\\site-packages (from scikit-learn->sentence-transformers) (3.6.0)\n",
      "Collecting aiofiles>=24.1.0 (from unstructured-client->unstructured[pdf])\n",
      "  Using cached aiofiles-24.1.0-py3-none-any.whl.metadata (10 kB)\n",
      "Requirement already satisfied: nest-asyncio>=1.6.0 in c:\\users\\user\\desktop\\git-hub\\llm-engieering\\.venv\\lib\\site-packages (from unstructured-client->unstructured[pdf]) (1.6.0)\n",
      "Using cached unstructured-0.17.2-py3-none-any.whl (1.8 MB)\n",
      "Using cached tiktoken-0.9.0-cp313-cp313-win_amd64.whl (894 kB)\n",
      "Using cached onnx-1.18.0-cp313-cp313-win_amd64.whl (15.9 MB)\n",
      "Using cached unstructured_inference-1.0.2-py3-none-any.whl (47 kB)\n",
      "Using cached opencv_python-4.11.0.86-cp37-abi3-win_amd64.whl (39.5 MB)\n",
      "Using cached unstructured.pytesseract-0.3.15-py3-none-any.whl (14 kB)\n",
      "Using cached accelerate-1.7.0-py3-none-any.whl (362 kB)\n",
      "Using cached chardet-5.2.0-py3-none-any.whl (199 kB)\n",
      "Using cached effdet-0.4.1-py3-none-any.whl (112 kB)\n",
      "Using cached omegaconf-2.3.0-py3-none-any.whl (79 kB)\n",
      "Using cached matplotlib-3.10.3-cp313-cp313-win_amd64.whl (8.1 MB)\n",
      "Using cached contourpy-1.3.2-cp313-cp313-win_amd64.whl (223 kB)\n",
      "Using cached cycler-0.12.1-py3-none-any.whl (8.3 kB)\n",
      "Using cached fonttools-4.58.0-cp313-cp313-win_amd64.whl (2.2 MB)\n",
      "Using cached kiwisolver-1.4.8-cp313-cp313-win_amd64.whl (71 kB)\n",
      "Using cached pyparsing-3.2.3-py3-none-any.whl (111 kB)\n",
      "Using cached timm-1.0.15-py3-none-any.whl (2.4 MB)\n",
      "Using cached emoji-2.14.1-py3-none-any.whl (590 kB)\n",
      "Using cached filetype-1.2.0-py2.py3-none-any.whl (19 kB)\n",
      "Using cached google_cloud_vision-3.10.1-py3-none-any.whl (526 kB)\n",
      "Using cached google_api_core-2.24.2-py3-none-any.whl (160 kB)\n",
      "Using cached grpcio_status-1.71.0-py3-none-any.whl (14 kB)\n",
      "Using cached proto_plus-1.26.1-py3-none-any.whl (50 kB)\n",
      "Using cached html5lib-1.1-py2.py3-none-any.whl (112 kB)\n",
      "Using cached lxml-5.4.0-cp313-cp313-win_amd64.whl (3.8 MB)\n",
      "Using cached nltk-3.9.1-py3-none-any.whl (1.5 MB)\n",
      "Using cached pandas-2.2.3-cp313-cp313-win_amd64.whl (11.5 MB)\n",
      "Using cached tzdata-2025.2-py2.py3-none-any.whl (347 kB)\n",
      "Using cached pdf2image-1.17.0-py3-none-any.whl (11 kB)\n",
      "Using cached pdfminer_six-20250506-py3-none-any.whl (5.6 MB)\n",
      "Using cached cryptography-45.0.2-cp311-abi3-win_amd64.whl (3.4 MB)\n",
      "Note: you may need to restart the kernel to use updated packages.\n"
     ]
    },
    {
     "name": "stderr",
     "output_type": "stream",
     "text": [
      "ERROR: Could not install packages due to an OSError: [Errno 28] No space left on device\n",
      "\n"
     ]
    }
   ],
   "source": [
    "pip install langchain langchain-community langchain-core langchain-ollama chromadb sentence-transformers pypdf python-dotenv unstructured[pdf] tiktoken"
   ]
  },
  {
   "cell_type": "markdown",
   "metadata": {},
   "source": [
    "langchain, langchain-community, langchain-core: The core LangChain framework for building LLM applications.\n",
    "\n",
    "langchain-ollama: Specific integration for using Ollama models with LangChain.\n",
    "\n",
    "chromadb: The local vector database for storing document embeddings.\n",
    "\n",
    "sentence-transformers: Used for an alternative local embedding method (explained later).\n",
    "\n",
    "pypdf: A library for loading PDF documents.\n",
    "\n",
    "python-dotenv: For managing environment variables (optional but good practice).\n",
    "\n",
    "unstructured[pdf]: An alternative, powerful document loader, especially for complex PDFs.\n",
    "\n",
    "tiktoken: Used by LangChain for token counting."
   ]
  },
  {
   "cell_type": "markdown",
   "metadata": {},
   "source": [
    "## How to Build a local RAG system with Qwen 3\n",
    "- RAG: Retrieval-Augmented Generation, it a powerful techinque that enhances LLMs by providing them with external knowledge.\n",
    "- Rag Process involves:\n",
    "    - Loading and splitting documents into manageable chunks\n",
    "    - Converting these chunks into numerical representations using an embedding model.\n",
    "    - Storing these embeddings in a vector database for efficient searching.\n",
    "    - When a query comes in, embedding the query and searching the vector database for the most similar document chunks.\n",
    "    - Providing these relevant chunks along with the original query to the llm to generate an informed ans."
   ]
  },
  {
   "cell_type": "markdown",
   "metadata": {},
   "source": [
    "## Load documents in python"
   ]
  },
  {
   "cell_type": "code",
   "execution_count": 2,
   "metadata": {},
   "outputs": [
    {
     "name": "stdout",
     "output_type": "stream",
     "text": [
      "Requirement already satisfied: langchain_community in c:\\users\\user\\desktop\\git-hub\\llm-engieering\\.venv\\lib\\site-packages (0.3.24)\n",
      "Requirement already satisfied: langchain-core<1.0.0,>=0.3.59 in c:\\users\\user\\desktop\\git-hub\\llm-engieering\\.venv\\lib\\site-packages (from langchain_community) (0.3.60)\n",
      "Requirement already satisfied: langchain<1.0.0,>=0.3.25 in c:\\users\\user\\desktop\\git-hub\\llm-engieering\\.venv\\lib\\site-packages (from langchain_community) (0.3.25)\n",
      "Requirement already satisfied: SQLAlchemy<3,>=1.4 in c:\\users\\user\\desktop\\git-hub\\llm-engieering\\.venv\\lib\\site-packages (from langchain_community) (2.0.41)\n",
      "Requirement already satisfied: requests<3,>=2 in c:\\users\\user\\desktop\\git-hub\\llm-engieering\\.venv\\lib\\site-packages (from langchain_community) (2.32.3)\n",
      "Requirement already satisfied: PyYAML>=5.3 in c:\\users\\user\\desktop\\git-hub\\llm-engieering\\.venv\\lib\\site-packages (from langchain_community) (6.0.2)\n",
      "Requirement already satisfied: aiohttp<4.0.0,>=3.8.3 in c:\\users\\user\\desktop\\git-hub\\llm-engieering\\.venv\\lib\\site-packages (from langchain_community) (3.11.18)\n",
      "Requirement already satisfied: tenacity!=8.4.0,<10,>=8.1.0 in c:\\users\\user\\desktop\\git-hub\\llm-engieering\\.venv\\lib\\site-packages (from langchain_community) (9.1.2)\n",
      "Requirement already satisfied: dataclasses-json<0.7,>=0.5.7 in c:\\users\\user\\desktop\\git-hub\\llm-engieering\\.venv\\lib\\site-packages (from langchain_community) (0.6.7)\n",
      "Requirement already satisfied: pydantic-settings<3.0.0,>=2.4.0 in c:\\users\\user\\desktop\\git-hub\\llm-engieering\\.venv\\lib\\site-packages (from langchain_community) (2.9.1)\n",
      "Requirement already satisfied: langsmith<0.4,>=0.1.125 in c:\\users\\user\\desktop\\git-hub\\llm-engieering\\.venv\\lib\\site-packages (from langchain_community) (0.3.42)\n",
      "Requirement already satisfied: httpx-sse<1.0.0,>=0.4.0 in c:\\users\\user\\desktop\\git-hub\\llm-engieering\\.venv\\lib\\site-packages (from langchain_community) (0.4.0)\n",
      "Requirement already satisfied: numpy>=2.1.0 in c:\\users\\user\\desktop\\git-hub\\llm-engieering\\.venv\\lib\\site-packages (from langchain_community) (2.2.6)\n",
      "Requirement already satisfied: aiohappyeyeballs>=2.3.0 in c:\\users\\user\\desktop\\git-hub\\llm-engieering\\.venv\\lib\\site-packages (from aiohttp<4.0.0,>=3.8.3->langchain_community) (2.6.1)\n",
      "Requirement already satisfied: aiosignal>=1.1.2 in c:\\users\\user\\desktop\\git-hub\\llm-engieering\\.venv\\lib\\site-packages (from aiohttp<4.0.0,>=3.8.3->langchain_community) (1.3.2)\n",
      "Requirement already satisfied: attrs>=17.3.0 in c:\\users\\user\\desktop\\git-hub\\llm-engieering\\.venv\\lib\\site-packages (from aiohttp<4.0.0,>=3.8.3->langchain_community) (25.3.0)\n",
      "Requirement already satisfied: frozenlist>=1.1.1 in c:\\users\\user\\desktop\\git-hub\\llm-engieering\\.venv\\lib\\site-packages (from aiohttp<4.0.0,>=3.8.3->langchain_community) (1.6.0)\n",
      "Requirement already satisfied: multidict<7.0,>=4.5 in c:\\users\\user\\desktop\\git-hub\\llm-engieering\\.venv\\lib\\site-packages (from aiohttp<4.0.0,>=3.8.3->langchain_community) (6.4.4)\n",
      "Requirement already satisfied: propcache>=0.2.0 in c:\\users\\user\\desktop\\git-hub\\llm-engieering\\.venv\\lib\\site-packages (from aiohttp<4.0.0,>=3.8.3->langchain_community) (0.3.1)\n",
      "Requirement already satisfied: yarl<2.0,>=1.17.0 in c:\\users\\user\\desktop\\git-hub\\llm-engieering\\.venv\\lib\\site-packages (from aiohttp<4.0.0,>=3.8.3->langchain_community) (1.20.0)\n",
      "Requirement already satisfied: marshmallow<4.0.0,>=3.18.0 in c:\\users\\user\\desktop\\git-hub\\llm-engieering\\.venv\\lib\\site-packages (from dataclasses-json<0.7,>=0.5.7->langchain_community) (3.26.1)\n",
      "Requirement already satisfied: typing-inspect<1,>=0.4.0 in c:\\users\\user\\desktop\\git-hub\\llm-engieering\\.venv\\lib\\site-packages (from dataclasses-json<0.7,>=0.5.7->langchain_community) (0.9.0)\n",
      "Requirement already satisfied: langchain-text-splitters<1.0.0,>=0.3.8 in c:\\users\\user\\desktop\\git-hub\\llm-engieering\\.venv\\lib\\site-packages (from langchain<1.0.0,>=0.3.25->langchain_community) (0.3.8)\n",
      "Requirement already satisfied: pydantic<3.0.0,>=2.7.4 in c:\\users\\user\\desktop\\git-hub\\llm-engieering\\.venv\\lib\\site-packages (from langchain<1.0.0,>=0.3.25->langchain_community) (2.11.4)\n",
      "Requirement already satisfied: jsonpatch<2.0,>=1.33 in c:\\users\\user\\desktop\\git-hub\\llm-engieering\\.venv\\lib\\site-packages (from langchain-core<1.0.0,>=0.3.59->langchain_community) (1.33)\n",
      "Requirement already satisfied: packaging<25,>=23.2 in c:\\users\\user\\desktop\\git-hub\\llm-engieering\\.venv\\lib\\site-packages (from langchain-core<1.0.0,>=0.3.59->langchain_community) (24.2)\n",
      "Requirement already satisfied: typing-extensions>=4.7 in c:\\users\\user\\desktop\\git-hub\\llm-engieering\\.venv\\lib\\site-packages (from langchain-core<1.0.0,>=0.3.59->langchain_community) (4.13.2)\n",
      "Requirement already satisfied: jsonpointer>=1.9 in c:\\users\\user\\desktop\\git-hub\\llm-engieering\\.venv\\lib\\site-packages (from jsonpatch<2.0,>=1.33->langchain-core<1.0.0,>=0.3.59->langchain_community) (3.0.0)\n",
      "Requirement already satisfied: httpx<1,>=0.23.0 in c:\\users\\user\\desktop\\git-hub\\llm-engieering\\.venv\\lib\\site-packages (from langsmith<0.4,>=0.1.125->langchain_community) (0.28.1)\n",
      "Requirement already satisfied: orjson<4.0.0,>=3.9.14 in c:\\users\\user\\desktop\\git-hub\\llm-engieering\\.venv\\lib\\site-packages (from langsmith<0.4,>=0.1.125->langchain_community) (3.10.18)\n",
      "Requirement already satisfied: requests-toolbelt<2.0.0,>=1.0.0 in c:\\users\\user\\desktop\\git-hub\\llm-engieering\\.venv\\lib\\site-packages (from langsmith<0.4,>=0.1.125->langchain_community) (1.0.0)\n",
      "Requirement already satisfied: zstandard<0.24.0,>=0.23.0 in c:\\users\\user\\desktop\\git-hub\\llm-engieering\\.venv\\lib\\site-packages (from langsmith<0.4,>=0.1.125->langchain_community) (0.23.0)\n",
      "Requirement already satisfied: anyio in c:\\users\\user\\desktop\\git-hub\\llm-engieering\\.venv\\lib\\site-packages (from httpx<1,>=0.23.0->langsmith<0.4,>=0.1.125->langchain_community) (4.9.0)\n",
      "Requirement already satisfied: certifi in c:\\users\\user\\desktop\\git-hub\\llm-engieering\\.venv\\lib\\site-packages (from httpx<1,>=0.23.0->langsmith<0.4,>=0.1.125->langchain_community) (2025.4.26)\n",
      "Requirement already satisfied: httpcore==1.* in c:\\users\\user\\desktop\\git-hub\\llm-engieering\\.venv\\lib\\site-packages (from httpx<1,>=0.23.0->langsmith<0.4,>=0.1.125->langchain_community) (1.0.9)\n",
      "Requirement already satisfied: idna in c:\\users\\user\\desktop\\git-hub\\llm-engieering\\.venv\\lib\\site-packages (from httpx<1,>=0.23.0->langsmith<0.4,>=0.1.125->langchain_community) (3.10)\n",
      "Requirement already satisfied: h11>=0.16 in c:\\users\\user\\desktop\\git-hub\\llm-engieering\\.venv\\lib\\site-packages (from httpcore==1.*->httpx<1,>=0.23.0->langsmith<0.4,>=0.1.125->langchain_community) (0.16.0)\n",
      "Requirement already satisfied: annotated-types>=0.6.0 in c:\\users\\user\\desktop\\git-hub\\llm-engieering\\.venv\\lib\\site-packages (from pydantic<3.0.0,>=2.7.4->langchain<1.0.0,>=0.3.25->langchain_community) (0.7.0)\n",
      "Requirement already satisfied: pydantic-core==2.33.2 in c:\\users\\user\\desktop\\git-hub\\llm-engieering\\.venv\\lib\\site-packages (from pydantic<3.0.0,>=2.7.4->langchain<1.0.0,>=0.3.25->langchain_community) (2.33.2)\n",
      "Requirement already satisfied: typing-inspection>=0.4.0 in c:\\users\\user\\desktop\\git-hub\\llm-engieering\\.venv\\lib\\site-packages (from pydantic<3.0.0,>=2.7.4->langchain<1.0.0,>=0.3.25->langchain_community) (0.4.0)\n",
      "Requirement already satisfied: python-dotenv>=0.21.0 in c:\\users\\user\\desktop\\git-hub\\llm-engieering\\.venv\\lib\\site-packages (from pydantic-settings<3.0.0,>=2.4.0->langchain_community) (1.1.0)\n",
      "Requirement already satisfied: charset-normalizer<4,>=2 in c:\\users\\user\\desktop\\git-hub\\llm-engieering\\.venv\\lib\\site-packages (from requests<3,>=2->langchain_community) (3.4.2)\n",
      "Requirement already satisfied: urllib3<3,>=1.21.1 in c:\\users\\user\\desktop\\git-hub\\llm-engieering\\.venv\\lib\\site-packages (from requests<3,>=2->langchain_community) (2.4.0)\n",
      "Requirement already satisfied: greenlet>=1 in c:\\users\\user\\desktop\\git-hub\\llm-engieering\\.venv\\lib\\site-packages (from SQLAlchemy<3,>=1.4->langchain_community) (3.2.2)\n",
      "Requirement already satisfied: mypy-extensions>=0.3.0 in c:\\users\\user\\desktop\\git-hub\\llm-engieering\\.venv\\lib\\site-packages (from typing-inspect<1,>=0.4.0->dataclasses-json<0.7,>=0.5.7->langchain_community) (1.1.0)\n",
      "Requirement already satisfied: sniffio>=1.1 in c:\\users\\user\\desktop\\git-hub\\llm-engieering\\.venv\\lib\\site-packages (from anyio->httpx<1,>=0.23.0->langsmith<0.4,>=0.1.125->langchain_community) (1.3.1)\n"
     ]
    }
   ],
   "source": [
    "!pip install langchain_community"
   ]
  },
  {
   "cell_type": "code",
   "execution_count": 3,
   "metadata": {},
   "outputs": [
    {
     "name": "stdout",
     "output_type": "stream",
     "text": [
      "Requirement already satisfied: pypdf in c:\\users\\user\\desktop\\git-hub\\llm-engieering\\.venv\\lib\\site-packages (5.5.0)\n"
     ]
    }
   ],
   "source": [
    "!pip install pypdf"
   ]
  },
  {
   "cell_type": "code",
   "execution_count": 4,
   "metadata": {},
   "outputs": [
    {
     "name": "stdout",
     "output_type": "stream",
     "text": [
      "Loaded 2 page(s) from C:\\Users\\user\\Desktop\\Git-hub\\LLM-engieering\\test.pdf\n"
     ]
    },
    {
     "data": {
      "text/plain": [
       "[Document(metadata={'producer': 'PyFPDF 1.7.2 http://pyfpdf.googlecode.com/', 'creator': 'PyPDF', 'creationdate': 'D:20250516052051', 'source': 'C:\\\\Users\\\\user\\\\Desktop\\\\Git-hub\\\\LLM-engieering\\\\test.pdf', 'total_pages': 2, 'page': 0, 'page_label': '1'}, page_content=\"RESUME\\nNANDANI KUMARI\\nVill:-Harivanshpur, Post:-Harhaki, Dist:-Madhubani\\nMob:- 9308057178\\nEmail:- sambhusk1716@gmail.com\\n\\nCAREER OBJECTIVE\\nLooking for an entry into a world-class, highly professional organization with challenging and\\ncompetitive environment, where I can use my knowledge base as well as personal attributes to\\nachieve the organization goals.\\n\\nEDUCATIONAL QUALIFICATION\\n10th - B.S.E.B PATNA - Passed in 2018 - 2ND Division\\n12th - B.S.E.B PATNA - Passed in 2020 - 1st Division\\nB.A Psychology Hons - Lalit Narayan Mithila University - 2023 - 1st Division\\nP.G. - Lalit Narayan Mithila University (Bihar) - 2023-25 - Pursuing\\n\\nCOMPUTER SKILLS\\nComputer Course in KYP\\n\\nPERSONAL SKILLS\\nQuick learner\\nCompatible Nature\\nAbility to motivate others\\n\\nPERSONAL DETAILS\\nName: Nandani Kumari\\nDate Of Birth: 20/08/2003\\nFather's Name: Late Siyaram Sah\\nMother Name: Renu Devi\\nGender: Female\"),\n",
       " Document(metadata={'producer': 'PyFPDF 1.7.2 http://pyfpdf.googlecode.com/', 'creator': 'PyPDF', 'creationdate': 'D:20250516052051', 'source': 'C:\\\\Users\\\\user\\\\Desktop\\\\Git-hub\\\\LLM-engieering\\\\test.pdf', 'total_pages': 2, 'page': 1, 'page_label': '2'}, page_content='RESUME\\nMarital Status: Unmarried\\nNationality: Indian\\nLanguage Proficiency: Hindi and Maithili\\nPermanent Address: At Harivanshpur, Post Harhaki, Dist:-Madhubani, Bihar (847230)\\nSignature\\nNandani Kumari')]"
      ]
     },
     "execution_count": 4,
     "metadata": {},
     "output_type": "execute_result"
    }
   ],
   "source": [
    "import os \n",
    "from dotenv import load_dotenv\n",
    "from langchain_community.document_loaders import PyPDFLoader\n",
    "\n",
    "load_dotenv()\n",
    "\n",
    "DATA_PATH = ''\n",
    "PDF_FILENAME = 'test.pdf'\n",
    "\n",
    "def load_document():\n",
    "    # pdf_path = os.path.join(DATA_PATH, PDF_FILENAME)\n",
    "    loader = PyPDFLoader(r'C:\\Users\\user\\Desktop\\Git-hub\\LLM-engieering\\test.pdf')\n",
    "\n",
    "    documents = loader.load()\n",
    "    print(f'Loaded {len(documents)} page(s) from {r'C:\\Users\\user\\Desktop\\Git-hub\\LLM-engieering\\test.pdf'}')\n",
    "    return documents\n",
    "\n",
    "load_document()"
   ]
  },
  {
   "cell_type": "markdown",
   "metadata": {},
   "source": [
    "## Split Documents"
   ]
  },
  {
   "cell_type": "code",
   "execution_count": 5,
   "metadata": {},
   "outputs": [
    {
     "name": "stdout",
     "output_type": "stream",
     "text": [
      "Loaded 2 page(s) from C:\\Users\\user\\Desktop\\Git-hub\\LLM-engieering\\test.pdf\n",
      "Split into 2 chunks\n"
     ]
    },
    {
     "data": {
      "text/plain": [
       "[Document(metadata={'producer': 'PyFPDF 1.7.2 http://pyfpdf.googlecode.com/', 'creator': 'PyPDF', 'creationdate': 'D:20250516052051', 'source': 'C:\\\\Users\\\\user\\\\Desktop\\\\Git-hub\\\\LLM-engieering\\\\test.pdf', 'total_pages': 2, 'page': 0, 'page_label': '1'}, page_content=\"RESUME\\nNANDANI KUMARI\\nVill:-Harivanshpur, Post:-Harhaki, Dist:-Madhubani\\nMob:- 9308057178\\nEmail:- sambhusk1716@gmail.com\\n\\nCAREER OBJECTIVE\\nLooking for an entry into a world-class, highly professional organization with challenging and\\ncompetitive environment, where I can use my knowledge base as well as personal attributes to\\nachieve the organization goals.\\n\\nEDUCATIONAL QUALIFICATION\\n10th - B.S.E.B PATNA - Passed in 2018 - 2ND Division\\n12th - B.S.E.B PATNA - Passed in 2020 - 1st Division\\nB.A Psychology Hons - Lalit Narayan Mithila University - 2023 - 1st Division\\nP.G. - Lalit Narayan Mithila University (Bihar) - 2023-25 - Pursuing\\n\\nCOMPUTER SKILLS\\nComputer Course in KYP\\n\\nPERSONAL SKILLS\\nQuick learner\\nCompatible Nature\\nAbility to motivate others\\n\\nPERSONAL DETAILS\\nName: Nandani Kumari\\nDate Of Birth: 20/08/2003\\nFather's Name: Late Siyaram Sah\\nMother Name: Renu Devi\\nGender: Female\"),\n",
       " Document(metadata={'producer': 'PyFPDF 1.7.2 http://pyfpdf.googlecode.com/', 'creator': 'PyPDF', 'creationdate': 'D:20250516052051', 'source': 'C:\\\\Users\\\\user\\\\Desktop\\\\Git-hub\\\\LLM-engieering\\\\test.pdf', 'total_pages': 2, 'page': 1, 'page_label': '2'}, page_content='RESUME\\nMarital Status: Unmarried\\nNationality: Indian\\nLanguage Proficiency: Hindi and Maithili\\nPermanent Address: At Harivanshpur, Post Harhaki, Dist:-Madhubani, Bihar (847230)\\nSignature\\nNandani Kumari')]"
      ]
     },
     "execution_count": 5,
     "metadata": {},
     "output_type": "execute_result"
    }
   ],
   "source": [
    "from langchain_text_splitters import RecursiveCharacterTextSplitter\n",
    "\n",
    "def split_documents(documents):\n",
    "    text_splitter = RecursiveCharacterTextSplitter(\n",
    "        chunk_size=1000,\n",
    "        chunk_overlap=200,\n",
    "        length_function=len,\n",
    "        is_separator_regex=False,\n",
    "    )\n",
    "    all_splits = text_splitter.split_documents(documents)\n",
    "    print(f'Split into {len(all_splits)} chunks')\n",
    "    return all_splits\n",
    "loaded_docs = load_document()\n",
    "split_documents(loaded_docs)"
   ]
  },
  {
   "cell_type": "markdown",
   "metadata": {},
   "source": [
    "## Choose and Configure Embedding Model"
   ]
  },
  {
   "cell_type": "code",
   "execution_count": 6,
   "metadata": {},
   "outputs": [
    {
     "name": "stdout",
     "output_type": "stream",
     "text": [
      "Requirement already satisfied: langchain_ollama in c:\\users\\user\\desktop\\git-hub\\llm-engieering\\.venv\\lib\\site-packages (0.3.3)\n",
      "Requirement already satisfied: ollama<1.0.0,>=0.4.8 in c:\\users\\user\\desktop\\git-hub\\llm-engieering\\.venv\\lib\\site-packages (from langchain_ollama) (0.4.8)\n",
      "Requirement already satisfied: langchain-core<1.0.0,>=0.3.60 in c:\\users\\user\\desktop\\git-hub\\llm-engieering\\.venv\\lib\\site-packages (from langchain_ollama) (0.3.60)\n",
      "Requirement already satisfied: langsmith<0.4,>=0.1.126 in c:\\users\\user\\desktop\\git-hub\\llm-engieering\\.venv\\lib\\site-packages (from langchain-core<1.0.0,>=0.3.60->langchain_ollama) (0.3.42)\n",
      "Requirement already satisfied: tenacity!=8.4.0,<10.0.0,>=8.1.0 in c:\\users\\user\\desktop\\git-hub\\llm-engieering\\.venv\\lib\\site-packages (from langchain-core<1.0.0,>=0.3.60->langchain_ollama) (9.1.2)\n",
      "Requirement already satisfied: jsonpatch<2.0,>=1.33 in c:\\users\\user\\desktop\\git-hub\\llm-engieering\\.venv\\lib\\site-packages (from langchain-core<1.0.0,>=0.3.60->langchain_ollama) (1.33)\n",
      "Requirement already satisfied: PyYAML>=5.3 in c:\\users\\user\\desktop\\git-hub\\llm-engieering\\.venv\\lib\\site-packages (from langchain-core<1.0.0,>=0.3.60->langchain_ollama) (6.0.2)\n",
      "Requirement already satisfied: packaging<25,>=23.2 in c:\\users\\user\\desktop\\git-hub\\llm-engieering\\.venv\\lib\\site-packages (from langchain-core<1.0.0,>=0.3.60->langchain_ollama) (24.2)\n",
      "Requirement already satisfied: typing-extensions>=4.7 in c:\\users\\user\\desktop\\git-hub\\llm-engieering\\.venv\\lib\\site-packages (from langchain-core<1.0.0,>=0.3.60->langchain_ollama) (4.13.2)\n",
      "Requirement already satisfied: pydantic>=2.7.4 in c:\\users\\user\\desktop\\git-hub\\llm-engieering\\.venv\\lib\\site-packages (from langchain-core<1.0.0,>=0.3.60->langchain_ollama) (2.11.4)\n",
      "Requirement already satisfied: jsonpointer>=1.9 in c:\\users\\user\\desktop\\git-hub\\llm-engieering\\.venv\\lib\\site-packages (from jsonpatch<2.0,>=1.33->langchain-core<1.0.0,>=0.3.60->langchain_ollama) (3.0.0)\n",
      "Requirement already satisfied: httpx<1,>=0.23.0 in c:\\users\\user\\desktop\\git-hub\\llm-engieering\\.venv\\lib\\site-packages (from langsmith<0.4,>=0.1.126->langchain-core<1.0.0,>=0.3.60->langchain_ollama) (0.28.1)\n",
      "Requirement already satisfied: orjson<4.0.0,>=3.9.14 in c:\\users\\user\\desktop\\git-hub\\llm-engieering\\.venv\\lib\\site-packages (from langsmith<0.4,>=0.1.126->langchain-core<1.0.0,>=0.3.60->langchain_ollama) (3.10.18)\n",
      "Requirement already satisfied: requests<3,>=2 in c:\\users\\user\\desktop\\git-hub\\llm-engieering\\.venv\\lib\\site-packages (from langsmith<0.4,>=0.1.126->langchain-core<1.0.0,>=0.3.60->langchain_ollama) (2.32.3)\n",
      "Requirement already satisfied: requests-toolbelt<2.0.0,>=1.0.0 in c:\\users\\user\\desktop\\git-hub\\llm-engieering\\.venv\\lib\\site-packages (from langsmith<0.4,>=0.1.126->langchain-core<1.0.0,>=0.3.60->langchain_ollama) (1.0.0)\n",
      "Requirement already satisfied: zstandard<0.24.0,>=0.23.0 in c:\\users\\user\\desktop\\git-hub\\llm-engieering\\.venv\\lib\\site-packages (from langsmith<0.4,>=0.1.126->langchain-core<1.0.0,>=0.3.60->langchain_ollama) (0.23.0)\n",
      "Requirement already satisfied: anyio in c:\\users\\user\\desktop\\git-hub\\llm-engieering\\.venv\\lib\\site-packages (from httpx<1,>=0.23.0->langsmith<0.4,>=0.1.126->langchain-core<1.0.0,>=0.3.60->langchain_ollama) (4.9.0)\n",
      "Requirement already satisfied: certifi in c:\\users\\user\\desktop\\git-hub\\llm-engieering\\.venv\\lib\\site-packages (from httpx<1,>=0.23.0->langsmith<0.4,>=0.1.126->langchain-core<1.0.0,>=0.3.60->langchain_ollama) (2025.4.26)\n",
      "Requirement already satisfied: httpcore==1.* in c:\\users\\user\\desktop\\git-hub\\llm-engieering\\.venv\\lib\\site-packages (from httpx<1,>=0.23.0->langsmith<0.4,>=0.1.126->langchain-core<1.0.0,>=0.3.60->langchain_ollama) (1.0.9)\n",
      "Requirement already satisfied: idna in c:\\users\\user\\desktop\\git-hub\\llm-engieering\\.venv\\lib\\site-packages (from httpx<1,>=0.23.0->langsmith<0.4,>=0.1.126->langchain-core<1.0.0,>=0.3.60->langchain_ollama) (3.10)\n",
      "Requirement already satisfied: h11>=0.16 in c:\\users\\user\\desktop\\git-hub\\llm-engieering\\.venv\\lib\\site-packages (from httpcore==1.*->httpx<1,>=0.23.0->langsmith<0.4,>=0.1.126->langchain-core<1.0.0,>=0.3.60->langchain_ollama) (0.16.0)\n",
      "Requirement already satisfied: annotated-types>=0.6.0 in c:\\users\\user\\desktop\\git-hub\\llm-engieering\\.venv\\lib\\site-packages (from pydantic>=2.7.4->langchain-core<1.0.0,>=0.3.60->langchain_ollama) (0.7.0)\n",
      "Requirement already satisfied: pydantic-core==2.33.2 in c:\\users\\user\\desktop\\git-hub\\llm-engieering\\.venv\\lib\\site-packages (from pydantic>=2.7.4->langchain-core<1.0.0,>=0.3.60->langchain_ollama) (2.33.2)\n",
      "Requirement already satisfied: typing-inspection>=0.4.0 in c:\\users\\user\\desktop\\git-hub\\llm-engieering\\.venv\\lib\\site-packages (from pydantic>=2.7.4->langchain-core<1.0.0,>=0.3.60->langchain_ollama) (0.4.0)\n",
      "Requirement already satisfied: charset-normalizer<4,>=2 in c:\\users\\user\\desktop\\git-hub\\llm-engieering\\.venv\\lib\\site-packages (from requests<3,>=2->langsmith<0.4,>=0.1.126->langchain-core<1.0.0,>=0.3.60->langchain_ollama) (3.4.2)\n",
      "Requirement already satisfied: urllib3<3,>=1.21.1 in c:\\users\\user\\desktop\\git-hub\\llm-engieering\\.venv\\lib\\site-packages (from requests<3,>=2->langsmith<0.4,>=0.1.126->langchain-core<1.0.0,>=0.3.60->langchain_ollama) (2.4.0)\n",
      "Requirement already satisfied: sniffio>=1.1 in c:\\users\\user\\desktop\\git-hub\\llm-engieering\\.venv\\lib\\site-packages (from anyio->httpx<1,>=0.23.0->langsmith<0.4,>=0.1.126->langchain-core<1.0.0,>=0.3.60->langchain_ollama) (1.3.1)\n"
     ]
    }
   ],
   "source": [
    "!pip install langchain_ollama"
   ]
  },
  {
   "cell_type": "code",
   "execution_count": 7,
   "metadata": {},
   "outputs": [],
   "source": [
    "## option A: ollama embeddings\n",
    "from langchain_ollama import OllamaEmbeddings\n",
    "\n",
    "def get_embedding_function(model_name=\"nomic-embed-text\"):\n",
    "    \"\"\"Initializes the Ollama embedding function.\"\"\"\n",
    "    # Ensure Ollama server is running (ollama serve)\n",
    "    embeddings = OllamaEmbeddings(model=model_name)\n",
    "    print(f\"Initialized Ollama embeddings with model: {model_name}\")\n",
    "    return embeddings\n",
    "\n",
    "# embedding_function = get_embedding_function() # Call this later"
   ]
  },
  {
   "cell_type": "code",
   "execution_count": 8,
   "metadata": {},
   "outputs": [
    {
     "name": "stdout",
     "output_type": "stream",
     "text": [
      "Requirement already satisfied: sentence-transformers in c:\\users\\user\\desktop\\git-hub\\llm-engieering\\.venv\\lib\\site-packages (4.1.0)\n",
      "Requirement already satisfied: transformers<5.0.0,>=4.41.0 in c:\\users\\user\\desktop\\git-hub\\llm-engieering\\.venv\\lib\\site-packages (from sentence-transformers) (4.52.1)\n",
      "Requirement already satisfied: tqdm in c:\\users\\user\\desktop\\git-hub\\llm-engieering\\.venv\\lib\\site-packages (from sentence-transformers) (4.67.1)\n",
      "Requirement already satisfied: torch>=1.11.0 in c:\\users\\user\\desktop\\git-hub\\llm-engieering\\.venv\\lib\\site-packages (from sentence-transformers) (2.7.0)\n",
      "Requirement already satisfied: scikit-learn in c:\\users\\user\\desktop\\git-hub\\llm-engieering\\.venv\\lib\\site-packages (from sentence-transformers) (1.6.1)\n",
      "Requirement already satisfied: scipy in c:\\users\\user\\desktop\\git-hub\\llm-engieering\\.venv\\lib\\site-packages (from sentence-transformers) (1.15.3)\n",
      "Requirement already satisfied: huggingface-hub>=0.20.0 in c:\\users\\user\\desktop\\git-hub\\llm-engieering\\.venv\\lib\\site-packages (from sentence-transformers) (0.31.4)\n",
      "Requirement already satisfied: Pillow in c:\\users\\user\\desktop\\git-hub\\llm-engieering\\.venv\\lib\\site-packages (from sentence-transformers) (11.2.1)\n",
      "Requirement already satisfied: typing_extensions>=4.5.0 in c:\\users\\user\\desktop\\git-hub\\llm-engieering\\.venv\\lib\\site-packages (from sentence-transformers) (4.13.2)\n",
      "Requirement already satisfied: filelock in c:\\users\\user\\desktop\\git-hub\\llm-engieering\\.venv\\lib\\site-packages (from transformers<5.0.0,>=4.41.0->sentence-transformers) (3.18.0)\n",
      "Requirement already satisfied: numpy>=1.17 in c:\\users\\user\\desktop\\git-hub\\llm-engieering\\.venv\\lib\\site-packages (from transformers<5.0.0,>=4.41.0->sentence-transformers) (2.2.6)\n",
      "Requirement already satisfied: packaging>=20.0 in c:\\users\\user\\desktop\\git-hub\\llm-engieering\\.venv\\lib\\site-packages (from transformers<5.0.0,>=4.41.0->sentence-transformers) (24.2)\n",
      "Requirement already satisfied: pyyaml>=5.1 in c:\\users\\user\\desktop\\git-hub\\llm-engieering\\.venv\\lib\\site-packages (from transformers<5.0.0,>=4.41.0->sentence-transformers) (6.0.2)\n",
      "Requirement already satisfied: regex!=2019.12.17 in c:\\users\\user\\desktop\\git-hub\\llm-engieering\\.venv\\lib\\site-packages (from transformers<5.0.0,>=4.41.0->sentence-transformers) (2024.11.6)\n",
      "Requirement already satisfied: requests in c:\\users\\user\\desktop\\git-hub\\llm-engieering\\.venv\\lib\\site-packages (from transformers<5.0.0,>=4.41.0->sentence-transformers) (2.32.3)\n",
      "Requirement already satisfied: tokenizers<0.22,>=0.21 in c:\\users\\user\\desktop\\git-hub\\llm-engieering\\.venv\\lib\\site-packages (from transformers<5.0.0,>=4.41.0->sentence-transformers) (0.21.1)\n",
      "Requirement already satisfied: safetensors>=0.4.3 in c:\\users\\user\\desktop\\git-hub\\llm-engieering\\.venv\\lib\\site-packages (from transformers<5.0.0,>=4.41.0->sentence-transformers) (0.5.3)\n",
      "Requirement already satisfied: fsspec>=2023.5.0 in c:\\users\\user\\desktop\\git-hub\\llm-engieering\\.venv\\lib\\site-packages (from huggingface-hub>=0.20.0->sentence-transformers) (2025.5.0)\n",
      "Requirement already satisfied: sympy>=1.13.3 in c:\\users\\user\\desktop\\git-hub\\llm-engieering\\.venv\\lib\\site-packages (from torch>=1.11.0->sentence-transformers) (1.14.0)\n",
      "Requirement already satisfied: networkx in c:\\users\\user\\desktop\\git-hub\\llm-engieering\\.venv\\lib\\site-packages (from torch>=1.11.0->sentence-transformers) (3.4.2)\n",
      "Requirement already satisfied: jinja2 in c:\\users\\user\\desktop\\git-hub\\llm-engieering\\.venv\\lib\\site-packages (from torch>=1.11.0->sentence-transformers) (3.1.6)\n",
      "Requirement already satisfied: setuptools in c:\\users\\user\\desktop\\git-hub\\llm-engieering\\.venv\\lib\\site-packages (from torch>=1.11.0->sentence-transformers) (80.8.0)\n",
      "Requirement already satisfied: mpmath<1.4,>=1.1.0 in c:\\users\\user\\desktop\\git-hub\\llm-engieering\\.venv\\lib\\site-packages (from sympy>=1.13.3->torch>=1.11.0->sentence-transformers) (1.3.0)\n",
      "Requirement already satisfied: colorama in c:\\users\\user\\desktop\\git-hub\\llm-engieering\\.venv\\lib\\site-packages (from tqdm->sentence-transformers) (0.4.6)\n",
      "Requirement already satisfied: MarkupSafe>=2.0 in c:\\users\\user\\desktop\\git-hub\\llm-engieering\\.venv\\lib\\site-packages (from jinja2->torch>=1.11.0->sentence-transformers) (3.0.2)\n",
      "Requirement already satisfied: charset-normalizer<4,>=2 in c:\\users\\user\\desktop\\git-hub\\llm-engieering\\.venv\\lib\\site-packages (from requests->transformers<5.0.0,>=4.41.0->sentence-transformers) (3.4.2)\n",
      "Requirement already satisfied: idna<4,>=2.5 in c:\\users\\user\\desktop\\git-hub\\llm-engieering\\.venv\\lib\\site-packages (from requests->transformers<5.0.0,>=4.41.0->sentence-transformers) (3.10)\n",
      "Requirement already satisfied: urllib3<3,>=1.21.1 in c:\\users\\user\\desktop\\git-hub\\llm-engieering\\.venv\\lib\\site-packages (from requests->transformers<5.0.0,>=4.41.0->sentence-transformers) (2.4.0)\n",
      "Requirement already satisfied: certifi>=2017.4.17 in c:\\users\\user\\desktop\\git-hub\\llm-engieering\\.venv\\lib\\site-packages (from requests->transformers<5.0.0,>=4.41.0->sentence-transformers) (2025.4.26)\n",
      "Requirement already satisfied: joblib>=1.2.0 in c:\\users\\user\\desktop\\git-hub\\llm-engieering\\.venv\\lib\\site-packages (from scikit-learn->sentence-transformers) (1.5.0)\n",
      "Requirement already satisfied: threadpoolctl>=3.1.0 in c:\\users\\user\\desktop\\git-hub\\llm-engieering\\.venv\\lib\\site-packages (from scikit-learn->sentence-transformers) (3.6.0)\n"
     ]
    }
   ],
   "source": [
    "!pip install sentence-transformers"
   ]
  },
  {
   "cell_type": "code",
   "execution_count": 9,
   "metadata": {},
   "outputs": [
    {
     "name": "stdout",
     "output_type": "stream",
     "text": [
      "Requirement already satisfied: sentence-transformers in c:\\users\\user\\desktop\\git-hub\\llm-engieering\\.venv\\lib\\site-packages (4.1.0)\n",
      "Requirement already satisfied: transformers<5.0.0,>=4.41.0 in c:\\users\\user\\desktop\\git-hub\\llm-engieering\\.venv\\lib\\site-packages (from sentence-transformers) (4.52.1)\n",
      "Requirement already satisfied: tqdm in c:\\users\\user\\desktop\\git-hub\\llm-engieering\\.venv\\lib\\site-packages (from sentence-transformers) (4.67.1)\n",
      "Requirement already satisfied: torch>=1.11.0 in c:\\users\\user\\desktop\\git-hub\\llm-engieering\\.venv\\lib\\site-packages (from sentence-transformers) (2.7.0)\n",
      "Requirement already satisfied: scikit-learn in c:\\users\\user\\desktop\\git-hub\\llm-engieering\\.venv\\lib\\site-packages (from sentence-transformers) (1.6.1)\n",
      "Requirement already satisfied: scipy in c:\\users\\user\\desktop\\git-hub\\llm-engieering\\.venv\\lib\\site-packages (from sentence-transformers) (1.15.3)\n",
      "Requirement already satisfied: huggingface-hub>=0.20.0 in c:\\users\\user\\desktop\\git-hub\\llm-engieering\\.venv\\lib\\site-packages (from sentence-transformers) (0.31.4)\n",
      "Requirement already satisfied: Pillow in c:\\users\\user\\desktop\\git-hub\\llm-engieering\\.venv\\lib\\site-packages (from sentence-transformers) (11.2.1)\n",
      "Requirement already satisfied: typing_extensions>=4.5.0 in c:\\users\\user\\desktop\\git-hub\\llm-engieering\\.venv\\lib\\site-packages (from sentence-transformers) (4.13.2)\n",
      "Requirement already satisfied: filelock in c:\\users\\user\\desktop\\git-hub\\llm-engieering\\.venv\\lib\\site-packages (from transformers<5.0.0,>=4.41.0->sentence-transformers) (3.18.0)\n",
      "Requirement already satisfied: numpy>=1.17 in c:\\users\\user\\desktop\\git-hub\\llm-engieering\\.venv\\lib\\site-packages (from transformers<5.0.0,>=4.41.0->sentence-transformers) (2.2.6)\n",
      "Requirement already satisfied: packaging>=20.0 in c:\\users\\user\\desktop\\git-hub\\llm-engieering\\.venv\\lib\\site-packages (from transformers<5.0.0,>=4.41.0->sentence-transformers) (24.2)\n",
      "Requirement already satisfied: pyyaml>=5.1 in c:\\users\\user\\desktop\\git-hub\\llm-engieering\\.venv\\lib\\site-packages (from transformers<5.0.0,>=4.41.0->sentence-transformers) (6.0.2)\n",
      "Requirement already satisfied: regex!=2019.12.17 in c:\\users\\user\\desktop\\git-hub\\llm-engieering\\.venv\\lib\\site-packages (from transformers<5.0.0,>=4.41.0->sentence-transformers) (2024.11.6)\n",
      "Requirement already satisfied: requests in c:\\users\\user\\desktop\\git-hub\\llm-engieering\\.venv\\lib\\site-packages (from transformers<5.0.0,>=4.41.0->sentence-transformers) (2.32.3)\n",
      "Requirement already satisfied: tokenizers<0.22,>=0.21 in c:\\users\\user\\desktop\\git-hub\\llm-engieering\\.venv\\lib\\site-packages (from transformers<5.0.0,>=4.41.0->sentence-transformers) (0.21.1)\n",
      "Requirement already satisfied: safetensors>=0.4.3 in c:\\users\\user\\desktop\\git-hub\\llm-engieering\\.venv\\lib\\site-packages (from transformers<5.0.0,>=4.41.0->sentence-transformers) (0.5.3)\n",
      "Requirement already satisfied: fsspec>=2023.5.0 in c:\\users\\user\\desktop\\git-hub\\llm-engieering\\.venv\\lib\\site-packages (from huggingface-hub>=0.20.0->sentence-transformers) (2025.5.0)\n",
      "Requirement already satisfied: sympy>=1.13.3 in c:\\users\\user\\desktop\\git-hub\\llm-engieering\\.venv\\lib\\site-packages (from torch>=1.11.0->sentence-transformers) (1.14.0)\n",
      "Requirement already satisfied: networkx in c:\\users\\user\\desktop\\git-hub\\llm-engieering\\.venv\\lib\\site-packages (from torch>=1.11.0->sentence-transformers) (3.4.2)\n",
      "Requirement already satisfied: jinja2 in c:\\users\\user\\desktop\\git-hub\\llm-engieering\\.venv\\lib\\site-packages (from torch>=1.11.0->sentence-transformers) (3.1.6)\n",
      "Requirement already satisfied: setuptools in c:\\users\\user\\desktop\\git-hub\\llm-engieering\\.venv\\lib\\site-packages (from torch>=1.11.0->sentence-transformers) (80.8.0)\n",
      "Requirement already satisfied: mpmath<1.4,>=1.1.0 in c:\\users\\user\\desktop\\git-hub\\llm-engieering\\.venv\\lib\\site-packages (from sympy>=1.13.3->torch>=1.11.0->sentence-transformers) (1.3.0)\n",
      "Requirement already satisfied: colorama in c:\\users\\user\\desktop\\git-hub\\llm-engieering\\.venv\\lib\\site-packages (from tqdm->sentence-transformers) (0.4.6)\n",
      "Requirement already satisfied: MarkupSafe>=2.0 in c:\\users\\user\\desktop\\git-hub\\llm-engieering\\.venv\\lib\\site-packages (from jinja2->torch>=1.11.0->sentence-transformers) (3.0.2)\n",
      "Requirement already satisfied: charset-normalizer<4,>=2 in c:\\users\\user\\desktop\\git-hub\\llm-engieering\\.venv\\lib\\site-packages (from requests->transformers<5.0.0,>=4.41.0->sentence-transformers) (3.4.2)\n",
      "Requirement already satisfied: idna<4,>=2.5 in c:\\users\\user\\desktop\\git-hub\\llm-engieering\\.venv\\lib\\site-packages (from requests->transformers<5.0.0,>=4.41.0->sentence-transformers) (3.10)\n",
      "Requirement already satisfied: urllib3<3,>=1.21.1 in c:\\users\\user\\desktop\\git-hub\\llm-engieering\\.venv\\lib\\site-packages (from requests->transformers<5.0.0,>=4.41.0->sentence-transformers) (2.4.0)\n",
      "Requirement already satisfied: certifi>=2017.4.17 in c:\\users\\user\\desktop\\git-hub\\llm-engieering\\.venv\\lib\\site-packages (from requests->transformers<5.0.0,>=4.41.0->sentence-transformers) (2025.4.26)\n",
      "Requirement already satisfied: joblib>=1.2.0 in c:\\users\\user\\desktop\\git-hub\\llm-engieering\\.venv\\lib\\site-packages (from scikit-learn->sentence-transformers) (1.5.0)\n",
      "Requirement already satisfied: threadpoolctl>=3.1.0 in c:\\users\\user\\desktop\\git-hub\\llm-engieering\\.venv\\lib\\site-packages (from scikit-learn->sentence-transformers) (3.6.0)\n"
     ]
    }
   ],
   "source": [
    "!pip install sentence-transformers"
   ]
  },
  {
   "cell_type": "code",
   "execution_count": 11,
   "metadata": {},
   "outputs": [
    {
     "name": "stdout",
     "output_type": "stream",
     "text": [
      "Initialized Ollama embeddings with model: nomic-embed-text\n"
     ]
    }
   ],
   "source": [
    "## option b\n",
    "# Alternative embedding function using Sentence Transformers\n",
    "from langchain_community.embeddings import HuggingFaceEmbeddings\n",
    "\n",
    "def get_embedding_function_hf(model_name=\"all-MiniLM-L6-v2\"):\n",
    "     \"\"\"Initializes HuggingFace embeddings (runs locally).\"\"\"\n",
    "     embeddings = HuggingFaceEmbeddings(model_name=model_name)\n",
    "     print(f\"Initialized HuggingFace embeddings with model: {model_name}\")\n",
    "     return embeddings\n",
    "\n",
    "embedding_function = get_embedding_function()"
   ]
  },
  {
   "cell_type": "code",
   "execution_count": 12,
   "metadata": {},
   "outputs": [
    {
     "name": "stdout",
     "output_type": "stream",
     "text": [
      "Initialized Ollama embeddings with model: nomic-embed-text\n"
     ]
    },
    {
     "name": "stderr",
     "output_type": "stream",
     "text": [
      "C:\\Users\\user\\AppData\\Local\\Temp\\ipykernel_16748\\2501258355.py:7: LangChainDeprecationWarning: The class `Chroma` was deprecated in LangChain 0.2.9 and will be removed in 1.0. An updated version of the class exists in the :class:`~langchain-chroma package and should be used instead. To use it run `pip install -U :class:`~langchain-chroma` and import as `from :class:`~langchain_chroma import Chroma``.\n",
      "  vectorstore = Chroma(\n"
     ]
    },
    {
     "name": "stdout",
     "output_type": "stream",
     "text": [
      "Vector store initialized/loaded from: chroma_db\n"
     ]
    }
   ],
   "source": [
    "from langchain_community.vectorstores import Chroma\n",
    "\n",
    "CHROMA_PATH = \"chroma_db\" # Directory to store ChromaDB data\n",
    "\n",
    "def get_vector_store(embedding_function, persist_directory=CHROMA_PATH):\n",
    "    \"\"\"Initializes or loads the Chroma vector store.\"\"\"\n",
    "    vectorstore = Chroma(\n",
    "        persist_directory=persist_directory,\n",
    "        embedding_function=embedding_function\n",
    "    )\n",
    "    print(f\"Vector store initialized/loaded from: {persist_directory}\")\n",
    "    return vectorstore\n",
    "\n",
    "embedding_function = get_embedding_function()\n",
    "vector_store = get_vector_store(embedding_function)"
   ]
  },
  {
   "cell_type": "code",
   "execution_count": null,
   "metadata": {},
   "outputs": [],
   "source": []
  }
 ],
 "metadata": {
  "kernelspec": {
   "display_name": ".venv",
   "language": "python",
   "name": "python3"
  },
  "language_info": {
   "codemirror_mode": {
    "name": "ipython",
    "version": 3
   },
   "file_extension": ".py",
   "mimetype": "text/x-python",
   "name": "python",
   "nbconvert_exporter": "python",
   "pygments_lexer": "ipython3",
   "version": "3.13.3"
  }
 },
 "nbformat": 4,
 "nbformat_minor": 2
}
