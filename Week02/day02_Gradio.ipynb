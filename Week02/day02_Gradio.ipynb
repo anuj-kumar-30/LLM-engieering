{
 "cells": [
  {
   "cell_type": "markdown",
   "id": "2638bfce-2d08-46f0-891e-6d718b433cb1",
   "metadata": {},
   "source": [
    "# Gradio UI Intro"
   ]
  },
  {
   "cell_type": "code",
   "execution_count": null,
   "id": "0428b135-dd79-4c42-abed-6238c2d75c0d",
   "metadata": {},
   "outputs": [],
   "source": []
  },
  {
   "cell_type": "code",
   "execution_count": 2,
   "id": "b09d46c3-b0fb-4fe2-8612-2beb5d6f37ab",
   "metadata": {},
   "outputs": [],
   "source": [
    "# imports\n",
    "import os\n",
    "from openai import OpenAI\n",
    "from dotenv import load_dotenv\n",
    "import gradio as gr"
   ]
  },
  {
   "cell_type": "code",
   "execution_count": 11,
   "id": "e2372f8e-c52d-42b7-b0d3-072dccdc1fae",
   "metadata": {},
   "outputs": [],
   "source": [
    "def shout(txt):\n",
    "    print(f\"The text which has been shouted is---> {txt}\")\n",
    "    return txt.upper()"
   ]
  },
  {
   "cell_type": "code",
   "execution_count": 4,
   "id": "181f3a24-5e47-4029-80e5-abfc7c6541bb",
   "metadata": {},
   "outputs": [
    {
     "name": "stdout",
     "output_type": "stream",
     "text": [
      "* Running on local URL:  http://127.0.0.1:7860\n",
      "* To create a public link, set `share=True` in `launch()`.\n"
     ]
    },
    {
     "data": {
      "text/html": [
       "<div><iframe src=\"http://127.0.0.1:7860/\" width=\"100%\" height=\"500\" allow=\"autoplay; camera; microphone; clipboard-read; clipboard-write;\" frameborder=\"0\" allowfullscreen></iframe></div>"
      ],
      "text/plain": [
       "<IPython.core.display.HTML object>"
      ]
     },
     "metadata": {},
     "output_type": "display_data"
    }
   ],
   "source": [
    "view = gr.Interface(fn=shout, inputs=\"textbox\", outputs=\"textbox\").launch()"
   ]
  },
  {
   "cell_type": "code",
   "execution_count": 8,
   "id": "a76ccd60-762c-4a54-857e-8b7e36bedc5b",
   "metadata": {},
   "outputs": [
    {
     "name": "stdout",
     "output_type": "stream",
     "text": [
      "* Running on local URL:  http://127.0.0.1:7862\n",
      "* To create a public link, set `share=True` in `launch()`.\n"
     ]
    },
    {
     "data": {
      "text/html": [
       "<div><iframe src=\"http://127.0.0.1:7862/\" width=\"100%\" height=\"500\" allow=\"autoplay; camera; microphone; clipboard-read; clipboard-write;\" frameborder=\"0\" allowfullscreen></iframe></div>"
      ],
      "text/plain": [
       "<IPython.core.display.HTML object>"
      ]
     },
     "metadata": {},
     "output_type": "display_data"
    }
   ],
   "source": [
    "# removing the flag from our ui\n",
    "view = gr.Interface(fn=shout, inputs=\"textbox\", outputs=\"textbox\", flagging_mode=\"never\").launch()"
   ]
  },
  {
   "cell_type": "code",
   "execution_count": 12,
   "id": "5b048cb2-bc92-411c-9d45-d7c94f324c47",
   "metadata": {},
   "outputs": [
    {
     "name": "stdout",
     "output_type": "stream",
     "text": [
      "* Running on local URL:  http://127.0.0.1:7864\n",
      "* Running on public URL: https://618a80031d67051c89.gradio.live\n",
      "\n",
      "This share link expires in 1 week. For free permanent hosting and GPU upgrades, run `gradio deploy` from the terminal in the working directory to deploy to Hugging Face Spaces (https://huggingface.co/spaces)\n"
     ]
    },
    {
     "data": {
      "text/html": [
       "<div><iframe src=\"https://618a80031d67051c89.gradio.live\" width=\"100%\" height=\"500\" allow=\"autoplay; camera; microphone; clipboard-read; clipboard-write;\" frameborder=\"0\" allowfullscreen></iframe></div>"
      ],
      "text/plain": [
       "<IPython.core.display.HTML object>"
      ]
     },
     "metadata": {},
     "output_type": "display_data"
    },
    {
     "name": "stdout",
     "output_type": "stream",
     "text": [
      "The text which has been shouted is---> hlo\n",
      "The text which has been shouted is---> my name is anuj\n",
      "The text which has been shouted is---> who are you\n"
     ]
    }
   ],
   "source": [
    "# Create a public link so, that we can share with someone else\n",
    "view = gr.Interface(fn=shout, inputs=\"textbox\", outputs=\"textbox\", flagging_mode=\"never\").launch(share=True)"
   ]
  },
  {
   "cell_type": "markdown",
   "id": "cd657a94-ada1-46f0-a86a-8473ed661549",
   "metadata": {},
   "source": [
    "### Creating a chat bot with gemini-2.0-flash"
   ]
  },
  {
   "cell_type": "code",
   "execution_count": 21,
   "id": "e68f5069-cfcd-4dff-b5a6-76f4ad82c9f2",
   "metadata": {},
   "outputs": [],
   "source": [
    "import os\n",
    "from dotenv import load_dotenv\n",
    "from openai import OpenAI\n",
    "\n",
    "# getting api keys\n",
    "load_dotenv()\n",
    "gemini_api_key = os.getenv(\"GOOGLE_API_KEY\")\n",
    "gemini_MODEL = 'gemini-2.0-flash'\n",
    "gemini_base_url=\"https://generativelanguage.googleapis.com/v1beta/openai/\"\n",
    "\n",
    "# Creating our ai client\n",
    "gemini_client = OpenAI(\n",
    "    api_key=gemini_api_key,\n",
    "    base_url=gemini_base_url\n",
    ")\n",
    "\n",
    "# basic func to get the res from gemini\n",
    "def gemini_res(query):\n",
    "    if query.lower() == 'quit':\n",
    "        return \"Goodbye\"\n",
    "\n",
    "    context = [\n",
    "        {'role':'system', 'content':\"You are a very helpfull assistant\"},\n",
    "        {'role':'user', 'content':query}\n",
    "    ]\n",
    "    \n",
    "    res = gemini_client.chat.completions.create(\n",
    "        model=gemini_MODEL,\n",
    "        messages=context\n",
    "    )\n",
    "\n",
    "    return res.choices[0].message.content"
   ]
  },
  {
   "cell_type": "code",
   "execution_count": 22,
   "id": "cf079cf6-5f59-4f02-8c8b-ae023dc9c255",
   "metadata": {},
   "outputs": [
    {
     "data": {
      "text/plain": [
       "'Hi there! How can I help you today?\\n'"
      ]
     },
     "execution_count": 22,
     "metadata": {},
     "output_type": "execute_result"
    }
   ],
   "source": [
    "gemini_res('hi')"
   ]
  },
  {
   "cell_type": "code",
   "execution_count": 26,
   "id": "fb7b95f3-040c-4f9a-b0b5-ec269453f448",
   "metadata": {},
   "outputs": [
    {
     "name": "stdout",
     "output_type": "stream",
     "text": [
      "* Running on local URL:  http://127.0.0.1:7869\n",
      "* To create a public link, set `share=True` in `launch()`.\n"
     ]
    },
    {
     "data": {
      "text/html": [
       "<div><iframe src=\"http://127.0.0.1:7869/\" width=\"100%\" height=\"500\" allow=\"autoplay; camera; microphone; clipboard-read; clipboard-write;\" frameborder=\"0\" allowfullscreen></iframe></div>"
      ],
      "text/plain": [
       "<IPython.core.display.HTML object>"
      ]
     },
     "metadata": {},
     "output_type": "display_data"
    }
   ],
   "source": [
    "# creating basic ui for above gemini model\n",
    "view = gr.Interface(\n",
    "    fn=gemini_res,\n",
    "    inputs=[gr.Textbox(label=\"Your Message\", lines=6)],\n",
    "    outputs=[gr.Markdown(label=\"Response\")],\n",
    "    flagging_mode='never'\n",
    ").launch()"
   ]
  },
  {
   "cell_type": "code",
   "execution_count": 30,
   "id": "d725a21d-0b10-44c5-a7d9-2a905565cbe3",
   "metadata": {},
   "outputs": [],
   "source": [
    "# Now adding a stream content in our gemini model\n",
    "import os\n",
    "from dotenv import load_dotenv\n",
    "from openai import OpenAI\n",
    "\n",
    "# getting api keys\n",
    "load_dotenv()\n",
    "gemini_api_key = os.getenv(\"GOOGLE_API_KEY\")\n",
    "gemini_MODEL = 'gemini-2.0-flash'\n",
    "gemini_base_url=\"https://generativelanguage.googleapis.com/v1beta/openai/\"\n",
    "\n",
    "# Creating our ai client\n",
    "gemini_client = OpenAI(\n",
    "    api_key=gemini_api_key,\n",
    "    base_url=gemini_base_url\n",
    ")\n",
    "\n",
    "# basic func to get the res from gemini\n",
    "def gemini_res_stream(query):\n",
    "    if query.lower() == 'quit':\n",
    "        return \"Goodbye\"\n",
    "\n",
    "    context = [\n",
    "        {'role':'system', 'content':\"You are a very helpfull assistant, who response in the markdown\"},\n",
    "        {'role':'user', 'content':query}\n",
    "    ]\n",
    "    \n",
    "    stream = gemini_client.chat.completions.create(\n",
    "        model=gemini_MODEL,\n",
    "        messages=context,\n",
    "        stream=True\n",
    "    )\n",
    "\n",
    "    result=\"\"\n",
    "    for chunks in stream:\n",
    "        result = result + chunks.choices[0].delta.content or \"\"\n",
    "        yield result\n"
   ]
  },
  {
   "cell_type": "code",
   "execution_count": 31,
   "id": "9d97e5c5-5642-44ec-b602-97b31a601d6b",
   "metadata": {},
   "outputs": [
    {
     "name": "stdout",
     "output_type": "stream",
     "text": [
      "* Running on local URL:  http://127.0.0.1:7871\n",
      "* To create a public link, set `share=True` in `launch()`.\n"
     ]
    },
    {
     "data": {
      "text/html": [
       "<div><iframe src=\"http://127.0.0.1:7871/\" width=\"100%\" height=\"500\" allow=\"autoplay; camera; microphone; clipboard-read; clipboard-write;\" frameborder=\"0\" allowfullscreen></iframe></div>"
      ],
      "text/plain": [
       "<IPython.core.display.HTML object>"
      ]
     },
     "metadata": {},
     "output_type": "display_data"
    }
   ],
   "source": [
    "view = gr.Interface(\n",
    "    fn=gemini_res_stream,\n",
    "    inputs=[gr.Textbox(label=\"Your Message\", lines=8)],\n",
    "    outputs=[gr.Markdown(label=\"Response\")],\n",
    "    flagging_mode=\"never\"\n",
    ").launch()"
   ]
  },
  {
   "cell_type": "code",
   "execution_count": 32,
   "id": "30e76072-54b8-4b02-a538-3d2c0e10276e",
   "metadata": {},
   "outputs": [],
   "source": [
    "# Creating another model so that we can give choice to the user which model they want to use\n",
    "# Now adding a stream content in our gemini model\n",
    "import os\n",
    "from dotenv import load_dotenv\n",
    "from openai import OpenAI\n",
    "\n",
    "# getting api keys\n",
    "load_dotenv()\n",
    "supernova_api_key = os.getenv(\"SAMBANOVA_API_KEY\")\n",
    "supernova_MODEL = 'Llama-4-Maverick-17B-128E-Instruct'\n",
    "supernova_base_url=\"https://api.sambanova.ai/v1\"\n",
    "\n",
    "# Creating our ai client\n",
    "supernova_client = OpenAI(\n",
    "    api_key=supernova_api_key,\n",
    "    base_url=supernova_base_url\n",
    ")\n",
    "\n",
    "# basic func to get the res from gemini\n",
    "def sambanova_res_stream(query):\n",
    "    if query.lower() == 'quit':\n",
    "        return \"Goodbye\"\n",
    "\n",
    "    context = [\n",
    "        {'role':'system', 'content':\"You are a very helpfull assistant, who respond in the markdown format.\"},\n",
    "        {'role':'user', 'content':query}\n",
    "    ]\n",
    "    \n",
    "    stream = supernova_client.chat.completions.create(\n",
    "        model=supernova_MODEL,\n",
    "        messages=context,\n",
    "        stream=True\n",
    "    )\n",
    "\n",
    "    result=\"\"\n",
    "    for chunks in stream:\n",
    "        result = result + chunks.choices[0].delta.content or \"\"\n",
    "        yield result\n"
   ]
  },
  {
   "cell_type": "code",
   "execution_count": 34,
   "id": "1b877439-4d11-4840-b1bc-18e6322aa15a",
   "metadata": {},
   "outputs": [],
   "source": [
    "def choose_model(query, model):\n",
    "    if model==\"gemini\":\n",
    "        result = gemini_res_stream(query)\n",
    "    elif model==\"sambanova\":\n",
    "        result = sambanova_res_stream(query)\n",
    "    else:\n",
    "        raise ValueError(\"Unknown model was selected\")\n",
    "    yield from result"
   ]
  },
  {
   "cell_type": "code",
   "execution_count": 35,
   "id": "886984c2-f540-426e-8ee5-505636d1d6a8",
   "metadata": {},
   "outputs": [
    {
     "name": "stdout",
     "output_type": "stream",
     "text": [
      "* Running on local URL:  http://127.0.0.1:7872\n",
      "* Running on public URL: https://cf70278c04f6ed6428.gradio.live\n",
      "\n",
      "This share link expires in 1 week. For free permanent hosting and GPU upgrades, run `gradio deploy` from the terminal in the working directory to deploy to Hugging Face Spaces (https://huggingface.co/spaces)\n"
     ]
    },
    {
     "data": {
      "text/html": [
       "<div><iframe src=\"https://cf70278c04f6ed6428.gradio.live\" width=\"100%\" height=\"500\" allow=\"autoplay; camera; microphone; clipboard-read; clipboard-write;\" frameborder=\"0\" allowfullscreen></iframe></div>"
      ],
      "text/plain": [
       "<IPython.core.display.HTML object>"
      ]
     },
     "metadata": {},
     "output_type": "display_data"
    }
   ],
   "source": [
    "view = gr.Interface(\n",
    "    fn=choose_model,\n",
    "    inputs=[gr.Textbox(label=\"Your Message\", lines=8), gr.Dropdown([\"gemini\", \"sambanova\"],label=\"Choose Model\", value='gemini')],\n",
    "    outputs=[gr.Markdown(label=\"Response\")],\n",
    "    flagging_mode=\"never\"\n",
    ").launch(share=True)"
   ]
  },
  {
   "cell_type": "code",
   "execution_count": null,
   "id": "db630a8b-69b1-4e8f-8280-c85f20a2dc59",
   "metadata": {},
   "outputs": [],
   "source": []
  }
 ],
 "metadata": {
  "kernelspec": {
   "display_name": "Python 3 (ipykernel)",
   "language": "python",
   "name": "python3"
  },
  "language_info": {
   "codemirror_mode": {
    "name": "ipython",
    "version": 3
   },
   "file_extension": ".py",
   "mimetype": "text/x-python",
   "name": "python",
   "nbconvert_exporter": "python",
   "pygments_lexer": "ipython3",
   "version": "3.13.3"
  }
 },
 "nbformat": 4,
 "nbformat_minor": 5
}
