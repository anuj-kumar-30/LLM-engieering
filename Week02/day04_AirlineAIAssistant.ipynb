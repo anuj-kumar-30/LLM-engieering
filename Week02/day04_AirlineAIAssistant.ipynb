{
 "cells": [
  {
   "cell_type": "markdown",
   "metadata": {
    "vscode": {
     "languageId": "plaintext"
    }
   },
   "source": [
    "# Airline AI Assistant"
   ]
  },
  {
   "cell_type": "code",
   "execution_count": 1,
   "metadata": {},
   "outputs": [],
   "source": [
    "# Imports \n",
    "import os\n",
    "import json\n",
    "from dotenv import load_dotenv\n",
    "from openai import OpenAI\n",
    "import gradio as gr"
   ]
  },
  {
   "cell_type": "code",
   "execution_count": 2,
   "metadata": {},
   "outputs": [],
   "source": [
    "# Initializing api_key, model, base_url, system_prompt\n",
    "load_dotenv()\n",
    "ModelConfig = {\n",
    "    \"gemini\":{\n",
    "        \"api_key\":os.getenv('GOOGLE_API_KEY'),\n",
    "        \"base_url\":\"https://generativelanguage.googleapis.com/v1beta/openai/\",\n",
    "        \"model\":'gemini-2.0-flash'\n",
    "    },\n",
    "    \"sambanova\":{\n",
    "        'api_key':os.getenv('SAMBANOVA_API_KEY'),\n",
    "        'base_url':\"https://api.sambanova.ai/v1\",\n",
    "        'model':\"Llama-4-Maverick-17B-128E-Instruct\"\n",
    "    }\n",
    "}\n",
    "\n",
    "gemini_client = OpenAI(\n",
    "    api_key=ModelConfig['gemini']['api_key'],\n",
    "    base_url=ModelConfig['gemini']['base_url']\n",
    ")\n",
    "\n",
    "sambanova_client = OpenAI(\n",
    "    api_key=ModelConfig['sambanova']['api_key'],\n",
    "    base_url=ModelConfig['sambanova']['base_url']\n",
    ")\n",
    "\n",
    "# system prompt\n",
    "sys_prompt = \"You are a helpful assistant for an Airline called flightAI.\"\n",
    "sys_prompt += \"Give short, courteous answer, no more than one sentence. Always be accurate. If you don't know the answer, say so.\""
   ]
  },
  {
   "cell_type": "code",
   "execution_count": 13,
   "metadata": {},
   "outputs": [],
   "source": [
    "def chat(message, history):\n",
    "    # Convert history tuples to the correct format\n",
    "    formatted_history = []\n",
    "    for human, ai in history:\n",
    "        formatted_history.append({\"role\": \"user\", \"content\": human})\n",
    "        formatted_history.append({\"role\": \"assistant\", \"content\": ai})\n",
    "    \n",
    "    # Add system message and current message\n",
    "    messages = [{\"role\": \"system\", \"content\": sys_prompt}] + formatted_history + [{\"role\": \"user\", \"content\": message}]\n",
    "\n",
    "    response = gemini_client.chat.completions.create(\n",
    "        model=ModelConfig['gemini']['model'],\n",
    "        messages=messages\n",
    "    )\n",
    "\n",
    "    return response.choices[0].message.content"
   ]
  },
  {
   "cell_type": "code",
   "execution_count": 14,
   "metadata": {},
   "outputs": [
    {
     "name": "stderr",
     "output_type": "stream",
     "text": [
      "c:\\Users\\user\\Desktop\\Git-hub\\LLM-engieering\\venv\\Lib\\site-packages\\gradio\\chat_interface.py:339: UserWarning: The 'tuples' format for chatbot messages is deprecated and will be removed in a future version of Gradio. Please set type='messages' instead, which uses openai-style 'role' and 'content' keys.\n",
      "  self.chatbot = Chatbot(\n"
     ]
    },
    {
     "name": "stdout",
     "output_type": "stream",
     "text": [
      "* Running on local URL:  http://127.0.0.1:7864\n",
      "* Running on public URL: https://cea988592e0df1c2fb.gradio.live\n",
      "\n",
      "This share link expires in 1 week. For free permanent hosting and GPU upgrades, run `gradio deploy` from the terminal in the working directory to deploy to Hugging Face Spaces (https://huggingface.co/spaces)\n"
     ]
    },
    {
     "data": {
      "text/html": [
       "<div><iframe src=\"https://cea988592e0df1c2fb.gradio.live\" width=\"100%\" height=\"500\" allow=\"autoplay; camera; microphone; clipboard-read; clipboard-write;\" frameborder=\"0\" allowfullscreen></iframe></div>"
      ],
      "text/plain": [
       "<IPython.core.display.HTML object>"
      ]
     },
     "metadata": {},
     "output_type": "display_data"
    }
   ],
   "source": [
    "view = gr.ChatInterface(fn=chat).launch(share=True)"
   ]
  },
  {
   "cell_type": "code",
   "execution_count": null,
   "metadata": {},
   "outputs": [],
   "source": []
  }
 ],
 "metadata": {
  "kernelspec": {
   "display_name": "venv",
   "language": "python",
   "name": "python3"
  },
  "language_info": {
   "codemirror_mode": {
    "name": "ipython",
    "version": 3
   },
   "file_extension": ".py",
   "mimetype": "text/x-python",
   "name": "python",
   "nbconvert_exporter": "python",
   "pygments_lexer": "ipython3",
   "version": "3.13.3"
  }
 },
 "nbformat": 4,
 "nbformat_minor": 2
}
