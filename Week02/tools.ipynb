{
 "cells": [
  {
   "cell_type": "markdown",
   "metadata": {},
   "source": [
    "# Working with Tools\n",
    "> Tools are nothing just adding our custom function to LLM's model\n",
    "> WHY: As we know LLM are very good with strings data in simple words very good in the conversation but it lacks the math calculation and so many other things to overcome this we usally add/provide tools to our model so whenever needed they can use this tool to solve the query of the users\n",
    "---\n",
    "> Important points\n",
    "- It allows frontier model to connect with external functions\n",
    "    - Richer response by extending knowledge\n",
    "    - Ability to carry to out outcomes within the application\n",
    "    - Enhanced capabilities, like calculations\n",
    "\n",
    "> How it works\n",
    "- In a request to the LLM, specify available tools\n",
    "- The reply is either text, or a request to run a tool"
   ]
  },
  {
   "cell_type": "code",
   "execution_count": 2,
   "metadata": {},
   "outputs": [
    {
     "name": "stderr",
     "output_type": "stream",
     "text": [
      "c:\\Users\\user\\Desktop\\Git-hub\\LLM-engieering\\venv\\Lib\\site-packages\\tqdm\\auto.py:21: TqdmWarning: IProgress not found. Please update jupyter and ipywidgets. See https://ipywidgets.readthedocs.io/en/stable/user_install.html\n",
      "  from .autonotebook import tqdm as notebook_tqdm\n"
     ]
    }
   ],
   "source": [
    "import os\n",
    "from dotenv import load_dotenv\n",
    "from openai import OpenAI\n",
    "import gradio as gr"
   ]
  },
  {
   "cell_type": "code",
   "execution_count": 3,
   "metadata": {},
   "outputs": [
    {
     "name": "stdout",
     "output_type": "stream",
     "text": [
      "API key has been configured... Successfully AIzaSyCOvx\n"
     ]
    }
   ],
   "source": [
    "# Getting api key \n",
    "load_dotenv()\n",
    "api_key = os.getenv('GOOGLE_API_KEY')\n",
    "if api_key:\n",
    "    print(f\"API key has been configured... Successfully {api_key[:10]}\")\n",
    "else:\n",
    "    print(f\"Error... Fetching key\")"
   ]
  },
  {
   "cell_type": "code",
   "execution_count": 4,
   "metadata": {},
   "outputs": [
    {
     "name": "stdout",
     "output_type": "stream",
     "text": [
      "Client has been created successfully...\n"
     ]
    }
   ],
   "source": [
    "# Creating client for our LLM model\n",
    "try:\n",
    "    client = OpenAI(\n",
    "        api_key=api_key,\n",
    "        base_url=\"https://generativelanguage.googleapis.com/v1beta/openai/\"\n",
    "    )\n",
    "    print(\"Client has been created successfully...\")\n",
    "except Exception as e:\n",
    "    print(f\"Error while creating Client: {e}\")"
   ]
  },
  {
   "cell_type": "markdown",
   "metadata": {},
   "source": [
    "### Using openAI without function calling"
   ]
  },
  {
   "cell_type": "code",
   "execution_count": 30,
   "metadata": {},
   "outputs": [
    {
     "data": {
      "text/plain": [
       "\"David Nguyen is a sophomore majoring in computer science at Stanford University. He is Asian American and has a 3.8 GPA. David is known for his programming skills and is an active member of the university's Robotics Club. He hopes to pursue a career in artificial intelligence after graduating.Return only the JSON object, nothing else.\""
      ]
     },
     "execution_count": 30,
     "metadata": {},
     "output_type": "execute_result"
    }
   ],
   "source": [
    "student_1_description = \"David Nguyen is a sophomore majoring in computer science at Stanford University. \\\n",
    "He is Asian American and has a 3.8 GPA. \\\n",
    "David is known for his programming skills and is an active member of the university's Robotics Club. \\\n",
    "He hopes to pursue a career in artificial intelligence after graduating.\\\n",
    "Return only the JSON object, nothing else.\"\n",
    "student_1_description"
   ]
  },
  {
   "cell_type": "code",
   "execution_count": 31,
   "metadata": {},
   "outputs": [
    {
     "data": {
      "text/plain": [
       "\"\\nPlease extract the following information about the student from the given text and return the following information as given below:\\nname\\nmajor\\nschool\\ngrades\\nclub\\nThis is the body of text to extract the information from:\\nDavid Nguyen is a sophomore majoring in computer science at Stanford University. He is Asian American and has a 3.8 GPA. David is known for his programming skills and is an active member of the university's Robotics Club. He hopes to pursue a career in artificial intelligence after graduating.Return only the JSON object, nothing else.\\n\""
      ]
     },
     "execution_count": 31,
     "metadata": {},
     "output_type": "execute_result"
    }
   ],
   "source": [
    "prompt_1 = f\"\"\"\n",
    "Please extract the following information about the student from the given text and return the following information as given below:\n",
    "name\n",
    "major\n",
    "school\n",
    "grades\n",
    "club\n",
    "This is the body of text to extract the information from:\n",
    "{student_1_description}\n",
    "\"\"\"\n",
    "prompt_1"
   ]
  },
  {
   "cell_type": "code",
   "execution_count": 32,
   "metadata": {},
   "outputs": [
    {
     "name": "stdout",
     "output_type": "stream",
     "text": [
      "```json\n",
      "{\n",
      "  \"name\": \"David Nguyen\",\n",
      "  \"major\": \"computer science\",\n",
      "  \"school\": \"Stanford University\",\n",
      "  \"grades\": \"3.8 GPA\",\n",
      "  \"club\": \"Robotics Club\"\n",
      "}\n",
      "```\n"
     ]
    }
   ],
   "source": [
    "# Now lets see the response from our gemini model\n",
    "response = client.chat.completions.create(\n",
    "    model='gemini-2.0-flash',\n",
    "    messages= [{'role':'user', 'content':prompt_1}]\n",
    ")\n",
    "\n",
    "print(response.choices[0].message.content)\n",
    "\n",
    "# From the below response everything looks fine and working properly.\n",
    "# Now lets change the prompt with something little bit different"
   ]
  },
  {
   "cell_type": "code",
   "execution_count": 33,
   "metadata": {},
   "outputs": [],
   "source": [
    "student_2_description=\"Ravi Patel is a sophomore majoring in computer science at the University of Michigan. \\\n",
    "He is South Asian Indian American and has a 3.7 GPA. \\\n",
    "Ravi is an active member of the university's Chess Club and the South Asian Student Association. \\\n",
    "He hopes to pursue a career in software engineering after graduating.\\\n",
    "Return only the JSON object, nothing else.\"\n",
    "\n",
    "prompt_2 = f'''\n",
    "Please extract the following information from the given text and return it as a JSON object:\n",
    "\n",
    "name\n",
    "major\n",
    "school\n",
    "grade\n",
    "club\n",
    "\n",
    "This is the body of text to extract the information from:\n",
    "{student_2_description}\n",
    "'''"
   ]
  },
  {
   "cell_type": "code",
   "execution_count": 34,
   "metadata": {},
   "outputs": [
    {
     "name": "stdout",
     "output_type": "stream",
     "text": [
      "```json\n",
      "{\n",
      "  \"name\": \"Ravi Patel\",\n",
      "  \"major\": \"computer science\",\n",
      "  \"school\": \"University of Michigan\",\n",
      "  \"grade\": \"sophomore\",\n",
      "  \"club\": \"Chess Club\"\n",
      "}\n",
      "```\n"
     ]
    }
   ],
   "source": [
    "# Now let's see the response for the 2nd prompt\n",
    "response = client.chat.completions.create(\n",
    "    model='gemini-2.0-flash',\n",
    "    messages= [{'role':'user', 'content':prompt_2}]\n",
    ")\n",
    "\n",
    "print(response.choices[0].message.content)\n",
    "\n",
    "# As we can see, it is not consistent. Instead of returning one club, it has returned the list of clubs joined by Ravi. It is also different from the first student.\n",
    "# If we run the response couple of time it's not consistent sometimes it's shows single club and sometimes both of them \n",
    "# To make the response consistant we will use tools/function."
   ]
  },
  {
   "cell_type": "markdown",
   "metadata": {},
   "source": [
    "## OpenAI function calling example"
   ]
  },
  {
   "cell_type": "code",
   "execution_count": 35,
   "metadata": {},
   "outputs": [],
   "source": [
    "# Creating a fucntion for extracting studnet info\n",
    "def extract_student_info(name, major, school, grades, club):\n",
    "    return f\"{name} is majoring in {major} at {school}. He has {grades} GPA and he is an active member of university's {club}.\"\n",
    "\n",
    "def extract_school_info(name, ranking, country, no_of_students):\n",
    "    return f\"{name} is located in the {country}. The university is ranked #{ranking} in the world with {no_of_students} students.\""
   ]
  },
  {
   "cell_type": "code",
   "execution_count": 36,
   "metadata": {},
   "outputs": [],
   "source": [
    "student_custom_functions = [\n",
    "    {\n",
    "        'name':'extract_student_info',\n",
    "        'description':\"Get the student information from the body of the input text.\",\n",
    "        'parameter':{\n",
    "            'name':{\n",
    "                'type':'string',\n",
    "                'description':'Name of the person'\n",
    "            },\n",
    "            'major':{\n",
    "                'type':'string',\n",
    "                'description':'Major subject'\n",
    "            },\n",
    "            'school':{\n",
    "                'type':'string',\n",
    "                'description':'The university name.'\n",
    "            },\n",
    "            'grades':{\n",
    "                'type':'string',\n",
    "                'description':'GPA of student'\n",
    "            },\n",
    "            'club':{\n",
    "                'type':'string',\n",
    "                'description':'School club for extracurricular activities.'\n",
    "            }\n",
    "        }\n",
    "    }\n",
    "]"
   ]
  },
  {
   "cell_type": "code",
   "execution_count": 42,
   "metadata": {},
   "outputs": [
    {
     "name": "stdout",
     "output_type": "stream",
     "text": [
      "Error decoding JSON: Expecting value: line 1 column 1 (char 0)\n",
      "Raw content: ```json\n",
      "{\n",
      "  \"name\": \"David Nguyen\",\n",
      "  \"year\": \"Sophomore\",\n",
      "  \"major\": \"Computer Science\",\n",
      "  \"university\": \"Stanford University\",\n",
      "  \"ethnicity\": \"Asian American\",\n",
      "  \"gpa\": 3.8,\n",
      "  \"skills\": [\"Programming\"],\n",
      "  \"activities\": [\"Robotics Club\"],\n",
      "  \"career_goals\": \"Artificial Intelligence\"\n",
      "}\n",
      "```\n",
      "Error decoding JSON: Expecting value: line 1 column 1 (char 0)\n",
      "Raw content: ```json\n",
      "{\n",
      "  \"name\": \"Ravi Patel\",\n",
      "  \"year\": \"Sophomore\",\n",
      "  \"major\": \"Computer Science\",\n",
      "  \"university\": \"University of Michigan\",\n",
      "  \"ethnicity\": \"South Asian Indian American\",\n",
      "  \"gpa\": 3.7,\n",
      "  \"activities\": [\n",
      "    \"Chess Club\",\n",
      "    \"South Asian Student Association\"\n",
      "  ],\n",
      "  \"career_goal\": \"Software Engineering\"\n",
      "}\n",
      "```\n"
     ]
    }
   ],
   "source": [
    "import json\n",
    "student_description = [student_1_description,student_2_description]\n",
    "for i in student_description:\n",
    "    response = client.chat.completions.create(\n",
    "        model = 'gemini-2.0-flash',\n",
    "        messages = [{'role': 'user', 'content': i}],\n",
    "        # functions = student_custom_functions,\n",
    "        # function_call = 'auto'\n",
    "    )\n",
    "    # Extract the content from the response\n",
    "    content = response.choices[0].message.content\n",
    "    \n",
    "    # Clean the content to ensure it's valid JSON\n",
    "    # Remove any leading/trailing whitespace and quotes\n",
    "    content = content.strip().strip('\"')\n",
    "    \n",
    "    # If the content starts with a newline, remove it\n",
    "    if content.startswith('\\n'):\n",
    "        content = content.lstrip()\n",
    "    \n",
    "    # If the content is wrapped in quotes, remove them\n",
    "    if content.startswith('\"') and content.endswith('\"'):\n",
    "        content = content.strip('\"')\n",
    "\n",
    "    # Loading the response as a JSON object\n",
    "    try:\n",
    "        json_response = json.loads(content)  # Use the cleaned content instead of raw response\n",
    "        print(json_response)\n",
    "    except json.JSONDecodeError as e:\n",
    "        print(f\"Error decoding JSON: {e}\")\n",
    "        print(f\"Raw content: {content}\")"
   ]
  },
  {
   "cell_type": "code",
   "execution_count": null,
   "metadata": {},
   "outputs": [],
   "source": []
  }
 ],
 "metadata": {
  "kernelspec": {
   "display_name": "venv",
   "language": "python",
   "name": "python3"
  },
  "language_info": {
   "codemirror_mode": {
    "name": "ipython",
    "version": 3
   },
   "file_extension": ".py",
   "mimetype": "text/x-python",
   "name": "python",
   "nbconvert_exporter": "python",
   "pygments_lexer": "ipython3",
   "version": "3.13.3"
  }
 },
 "nbformat": 4,
 "nbformat_minor": 2
}
