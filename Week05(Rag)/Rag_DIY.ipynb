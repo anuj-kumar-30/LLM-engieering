{
 "cells": [
  {
   "cell_type": "markdown",
   "metadata": {
    "vscode": {
     "languageId": "plaintext"
    }
   },
   "source": [
    "# RAG\n",
    "> Retrival Augmented Generation"
   ]
  },
  {
   "cell_type": "markdown",
   "metadata": {
    "vscode": {
     "languageId": "plaintext"
    }
   },
   "source": [
    "## Expert Knowledge Worker\n",
    "- A Question Answering agent that is an expert in Knowledge Worker\n",
    "- To be used for employees of `Insurellm`, an Insurance Tech Company.\n",
    "- The agent needs to be accurate and the cost should be low."
   ]
  },
  {
   "cell_type": "code",
   "execution_count": 1,
   "metadata": {},
   "outputs": [
    {
     "name": "stderr",
     "output_type": "stream",
     "text": [
      "c:\\Users\\user\\Desktop\\Git-hub\\LLM-engieering\\venv\\Lib\\site-packages\\tqdm\\auto.py:21: TqdmWarning: IProgress not found. Please update jupyter and ipywidgets. See https://ipywidgets.readthedocs.io/en/stable/user_install.html\n",
      "  from .autonotebook import tqdm as notebook_tqdm\n"
     ]
    }
   ],
   "source": [
    "import os\n",
    "from dotenv import load_dotenv\n",
    "import glob\n",
    "from openai import OpenAI\n",
    "import gradio as gr"
   ]
  },
  {
   "cell_type": "code",
   "execution_count": 2,
   "metadata": {},
   "outputs": [],
   "source": [
    "# Getting our api key as well as creating openai client for our model\n",
    "try:\n",
    "    load_dotenv()\n",
    "    api_key = os.getenv('SAMBANOVA_API_KEY')\n",
    "    try:\n",
    "        client = OpenAI(\n",
    "            api_key=api_key,\n",
    "            base_url=\"https://api.sambanova.ai/v1\"\n",
    "        )\n",
    "    except Exception as e:\n",
    "        print(f\"Error while creating client... TRY AGAIN: {e}\")\n",
    "except Exception as e:\n",
    "    print(f\"Error while getting API Key... Try again: {e}\")"
   ]
  },
  {
   "cell_type": "code",
   "execution_count": 9,
   "metadata": {},
   "outputs": [
    {
     "name": "stdout",
     "output_type": "stream",
     "text": [
      "Chen\n",
      "Harper\n",
      "Thomson\n",
      "Lancaster\n",
      "Carter\n",
      "Tran\n",
      "Blake\n",
      "Bishop\n",
      "Thompson\n",
      "Spencer\n",
      "Greene\n",
      "Trenton\n"
     ]
    }
   ],
   "source": [
    "employees = glob.glob(\"knowledge-base/employees/*\")\n",
    "for emp in employees:\n",
    "    print(emp.split(\" \")[-1][:-3])"
   ]
  },
  {
   "cell_type": "code",
   "execution_count": null,
   "metadata": {},
   "outputs": [],
   "source": [
    "# Creating our knowledge base with bruteforce apporach\n",
    "KD = {}\n",
    "\n",
    "employees = glob.glob(\"knowledge-base/emoployees/*\")\n",
    "\n",
    "for employee in employees:\n",
    "    name = employee.split(\" \")[-1][:-3] # this will get all the emp's last name\n",
    "    doc = \"\"\n",
    "    with open(employee, 'r') as f:\n",
    "        doc = f.read()\n",
    "    KD[name]=doc"
   ]
  }
 ],
 "metadata": {
  "kernelspec": {
   "display_name": "venv",
   "language": "python",
   "name": "python3"
  },
  "language_info": {
   "codemirror_mode": {
    "name": "ipython",
    "version": 3
   },
   "file_extension": ".py",
   "mimetype": "text/x-python",
   "name": "python",
   "nbconvert_exporter": "python",
   "pygments_lexer": "ipython3",
   "version": "3.13.3"
  }
 },
 "nbformat": 4,
 "nbformat_minor": 2
}
